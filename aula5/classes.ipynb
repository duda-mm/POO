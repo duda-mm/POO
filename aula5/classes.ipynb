{
 "cells": [
  {
   "cell_type": "code",
   "execution_count": null,
   "id": "053146fe",
   "metadata": {},
   "outputs": [
    {
     "name": "stdout",
     "output_type": "stream",
     "text": [
      "Área: 78.5\n",
      "Circunferência: 31.40\n"
     ]
    }
   ],
   "source": [
    "#questão 1\n",
    "class Circulo():\n",
    "    def __init__(self):\n",
    "        self.raio = 0\n",
    "    def Area(self):\n",
    "        return 3.14 * self.raio**2\n",
    "    def Circunferencia(self):\n",
    "        return 2 * 3.14 * self.raio\n",
    "    \n",
    "x = Circulo()\n",
    "x.raio = 5\n",
    "print('Área:', x.Area())\n",
    "print(f'Circunferência: {x.Circunferencia():.2f}')"
   ]
  },
  {
   "cell_type": "code",
   "execution_count": null,
   "id": "e0b5b7e8",
   "metadata": {},
   "outputs": [
    {
     "name": "stdout",
     "output_type": "stream",
     "text": [
      "Velocidade Média: 66.67\n"
     ]
    }
   ],
   "source": [
    "#questão 2\n",
    "class Viagem():\n",
    "    def __init__(self):\n",
    "        self.distancia_km = 0\n",
    "        self.horas = 0\n",
    "        self.minutos = 0\n",
    "    def Calculo(self):\n",
    "        tempo = self.horas + self.minutos/60\n",
    "        velocidade_media = self.distancia_km / tempo\n",
    "        return velocidade_media\n",
    "x = Viagem()\n",
    "x.distancia_km = 100\n",
    "x.horas = 1\n",
    "x.minutos = 30\n",
    "print(f'Velocidade Média: {x.Calculo():.2f}')"
   ]
  },
  {
   "cell_type": "code",
   "execution_count": null,
   "id": "a34b7feb",
   "metadata": {},
   "outputs": [],
   "source": []
  },
  {
   "cell_type": "code",
   "execution_count": null,
   "id": "1bd425a0",
   "metadata": {},
   "outputs": [
    {
     "name": "stdout",
     "output_type": "stream",
     "text": [
      "30.0\n",
      "8\n"
     ]
    }
   ],
   "source": [
    "#questão 4\n",
    "class Sessao():\n",
    "    def __init__(self):\n",
    "        self.dia = 0\n",
    "        self.horario = 0\n",
    "    def entrada_inteira(self):\n",
    "        if self.dia == 'qua':\n",
    "            return 8\n",
    "        valor = 16\n",
    "        if self.dia == 'sex' or self.dia == 'sab' or self.dia == 'dom':\n",
    "            valor = 20\n",
    "        if self.horario == 0 or self.horario >= 17:\n",
    "            valor = valor * 1.5\n",
    "        return valor\n",
    "\n",
    "x = Sessao()\n",
    "x.dia = 'dom'\n",
    "x.horario = 18\n",
    "print(x.entrada_inteira())\n",
    "\n",
    "y = Sessao()\n",
    "y.dia = 'qua'\n",
    "y.horario = 20\n",
    "print(y.entrada_inteira())"
   ]
  }
 ],
 "metadata": {
  "kernelspec": {
   "display_name": ".venv",
   "language": "python",
   "name": "python3"
  },
  "language_info": {
   "codemirror_mode": {
    "name": "ipython",
    "version": 3
   },
   "file_extension": ".py",
   "mimetype": "text/x-python",
   "name": "python",
   "nbconvert_exporter": "python",
   "pygments_lexer": "ipython3",
   "version": "3.12.1"
  }
 },
 "nbformat": 4,
 "nbformat_minor": 5
}
