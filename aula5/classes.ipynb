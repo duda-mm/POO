{
 "cells": [
  {
   "cell_type": "code",
   "execution_count": 1,
   "id": "1bd425a0",
   "metadata": {},
   "outputs": [
    {
     "name": "stdout",
     "output_type": "stream",
     "text": [
      "dom 18\n"
     ]
    }
   ],
   "source": [
    "#questão 4\n",
    "class Sessao:\n",
    "    def __init__(self):\n",
    "        self.dia = 'dom'\n",
    "        self.horario = 18\n",
    "\n",
    "x = Sessao()\n",
    "print(x.dia, x.horario)"
   ]
  }
 ],
 "metadata": {
  "kernelspec": {
   "display_name": ".venv",
   "language": "python",
   "name": "python3"
  },
  "language_info": {
   "codemirror_mode": {
    "name": "ipython",
    "version": 3
   },
   "file_extension": ".py",
   "mimetype": "text/x-python",
   "name": "python",
   "nbconvert_exporter": "python",
   "pygments_lexer": "ipython3",
   "version": "3.12.1"
  }
 },
 "nbformat": 4,
 "nbformat_minor": 5
}
