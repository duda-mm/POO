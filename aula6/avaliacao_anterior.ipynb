{
 "cells": [
  {
   "cell_type": "code",
   "execution_count": null,
   "id": "67dd47cf",
   "metadata": {},
   "outputs": [
    {
     "name": "stdout",
     "output_type": "stream",
     "text": [
      "11\n",
      "-10\n",
      "12.5\n",
      "4\n",
      "2.5\n"
     ]
    }
   ],
   "source": [
    "#Questão 1. Mostre o resultado impresso por cada comando print do Python abaixo:\n",
    "\n",
    "#1 = 11\n",
    "#2 = -10\n",
    "#3 = 12.5\n",
    "#4 = 4\n",
    "#5 = 2.5\n",
    "\n",
    "print(1 - 2 + 3 * 4) \n",
    "print(1 * 2 - 3 * 4) \n",
    "print(1 / 2 + 3 * 4) \n",
    "print(1 // 2 * 3 + 4) \n",
    "print(1 + 2 * 3 / 4)"
   ]
  },
  {
   "cell_type": "code",
   "execution_count": 17,
   "id": "5b958fb5",
   "metadata": {},
   "outputs": [
    {
     "name": "stdout",
     "output_type": "stream",
     "text": [
      "10 15 20\n",
      "Soma dos pares: 30\n"
     ]
    }
   ],
   "source": [
    "#Questão 2. Escreva um programa em Python para:\n",
    "\n",
    "#1. ler três números inteiros em uma mesma linha\n",
    "x, y, z = map(int, input('Digite três múmeros inteiros separados por espaços:').split())\n",
    "print(x, y, z)\n",
    "\n",
    "#2. mostrar a soma dos números pares\n",
    "lista = [x,y,z]\n",
    "soma = 0\n",
    "for i in lista:\n",
    "    if i % 2 == 0:\n",
    "        soma += i\n",
    "print('Soma dos pares:', soma)"
   ]
  },
  {
   "cell_type": "code",
   "execution_count": null,
   "id": "d1dfe445",
   "metadata": {},
   "outputs": [
    {
     "name": "stdout",
     "output_type": "stream",
     "text": [
      "tecnico em informatica\n",
      "tcioe nomtc"
     ]
    }
   ],
   "source": [
    "#Questão 3. Escreva um programa em Python para:\n",
    "\n",
    "#1. ler uma frase\n",
    "frase = input('Escreva uma frase:')\n",
    "print(frase)\n",
    "\n",
    "#2. mostrar a frase lida, retirando os 2o, 4o, 6o, ... caracteres, ou seja, escreve um, outro não, a partir do\n",
    "#primeiro caractere, como no exemplo:\n",
    "for i in range(0, len(frase), 2):\n",
    "    print(frase[i], end = '') #texto é como uma lista"
   ]
  }
 ],
 "metadata": {
  "kernelspec": {
   "display_name": "Python 3",
   "language": "python",
   "name": "python3"
  },
  "language_info": {
   "codemirror_mode": {
    "name": "ipython",
    "version": 3
   },
   "file_extension": ".py",
   "mimetype": "text/x-python",
   "name": "python",
   "nbconvert_exporter": "python",
   "pygments_lexer": "ipython3",
   "version": "3.12.1"
  }
 },
 "nbformat": 4,
 "nbformat_minor": 5
}
