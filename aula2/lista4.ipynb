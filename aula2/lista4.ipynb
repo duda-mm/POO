{
 "cells": [
  {
   "cell_type": "code",
   "execution_count": 1,
   "id": "37e97fc5",
   "metadata": {},
   "outputs": [
    {
     "name": "stdout",
     "output_type": "stream",
     "text": [
      "R1 = -0.29788\n",
      "R2 = -1.71212\n"
     ]
    }
   ],
   "source": [
    "#1036 – Fórmula de Bhaskara\n",
    "import math\n",
    "A, B, C = map(float, input().split())\n",
    "D = B**2 - 4 * A * C\n",
    "if D < 0 or A == 0:\n",
    "    print(\"Impossivel calcular\")\n",
    "else:\n",
    "    R1 = (-B + math.sqrt(D)) / (2*A)\n",
    "    R2 = (-B - math.sqrt(D)) / (2*A)\n",
    "    print(f\"R1 = {R1:.5f}\")\n",
    "    print(f\"R2 = {R2:.5f}\")"
   ]
  },
  {
   "cell_type": "code",
   "execution_count": 2,
   "id": "a1eb109c",
   "metadata": {},
   "outputs": [
    {
     "name": "stdout",
     "output_type": "stream",
     "text": [
      "Sao Multiplos\n"
     ]
    }
   ],
   "source": [
    "#1044 – Múltiplos\n",
    "A, B = map(int, input().split())\n",
    "if A % B == 0 or B % A == 0:\n",
    "    print('Sao Multiplos')\n",
    "else:\n",
    "    print('Nao sao Multiplos')"
   ]
  },
  {
   "cell_type": "code",
   "execution_count": 3,
   "id": "4282117c",
   "metadata": {},
   "outputs": [
    {
     "name": "stdout",
     "output_type": "stream",
     "text": [
      "homem\n"
     ]
    }
   ],
   "source": [
    "#1049 – Animal\n",
    "Q1 = input()\n",
    "Q2 = input()\n",
    "Q3 = input()\n",
    "\n",
    "if Q1 == 'vertebrado' and Q2 == 'ave' and Q3 == 'carnivoro':\n",
    "    print('aguia')\n",
    "elif Q1 == 'vertebrado' and Q2 == 'ave' and Q3 == 'onivoro':\n",
    "    print('pomba')\n",
    "\n",
    "elif Q1 == 'vertebrado' and Q2 == 'mamifero' and Q3 == 'onivoro':\n",
    "    print('homem')\n",
    "elif Q1 == 'vertebrado' and Q2 == 'mamifero' and Q3 == 'herbivoro':\n",
    "    print('vaca')\n",
    "\n",
    "elif Q1 == 'invertebrado' and Q2 == 'inseto' and Q3 == 'hematofago':\n",
    "    print('pulga')\n",
    "elif Q1 == 'invertebrado' and Q2 == 'inseto' and Q3 == 'herbivoro':\n",
    "    print('lagarta')\n",
    "\n",
    "elif Q1 == 'invertebrado' and Q2 == 'anelideo' and Q3 == 'hematofago':\n",
    "    print('sanguessuga')\n",
    "elif Q1 == 'invertebrado' and Q2 == 'anelideo' and Q3 == 'onivoro':\n",
    "    print('minhoca')"
   ]
  },
  {
   "cell_type": "code",
   "execution_count": 4,
   "id": "4ff1effa",
   "metadata": {},
   "outputs": [
    {
     "name": "stdout",
     "output_type": "stream",
     "text": [
      "Sao Paulo\n"
     ]
    }
   ],
   "source": [
    "#1050 – DDD\n",
    "entrada = int(input())\n",
    "if entrada == 61:\n",
    "    print('Brasilia')\n",
    "elif entrada == 71:\n",
    "    print('Salvador')\n",
    "elif entrada == 11:\n",
    "    print('Sao Paulo')\n",
    "elif entrada == 21:\n",
    "    print('Rio de Janeiro')\n",
    "elif entrada == 32:\n",
    "    print('Juiz de Fora')\n",
    "elif entrada == 19:\n",
    "    print('Campinas')\n",
    "elif entrada == 27:\n",
    "    print('Vitoria')\n",
    "elif entrada == 31:\n",
    "    print('Belo Horizonte')\n",
    "else:\n",
    "    print('DDD nao cadastrado')"
   ]
  },
  {
   "cell_type": "code",
   "execution_count": 1,
   "id": "e945c7ff",
   "metadata": {},
   "outputs": [
    {
     "name": "stdout",
     "output_type": "stream",
     "text": [
      "fora\n"
     ]
    }
   ],
   "source": [
    "#2424 – Tira-teima\n",
    "x, y = map(int, input().split())\n",
    "if 0 <= x <= 432 and 0 <= y <= 468:\n",
    "    print('dentro')\n",
    "else:\n",
    "    print('fora')"
   ]
  },
  {
   "cell_type": "code",
   "execution_count": 4,
   "id": "d4e55d9f",
   "metadata": {},
   "outputs": [
    {
     "name": "stdout",
     "output_type": "stream",
     "text": [
      "80\n"
     ]
    }
   ],
   "source": [
    "#2670 – Máquina de Café\n",
    "A1 = int(input())\n",
    "A2 = int(input())\n",
    "A3 = int(input())\n",
    "tempo_no_1 = 0 * A1 + 2 * A2 + 4 * A3\n",
    "tempo_no_2 = 2 * A1 + 0 * A2 + 2 * A3\n",
    "tempo_no_3 = 4 * A1 + 2 * A2 + 0 * A3\n",
    "menor_tempo = min(tempo_no_1, tempo_no_2, tempo_no_3)\n",
    "print(menor_tempo)"
   ]
  },
  {
   "cell_type": "code",
   "execution_count": 3,
   "id": "adfb4cd0",
   "metadata": {},
   "outputs": [
    {
     "name": "stdout",
     "output_type": "stream",
     "text": [
      "2\n",
      "4\n",
      "6\n",
      "8\n",
      "10\n",
      "12\n",
      "14\n",
      "16\n",
      "18\n",
      "20\n",
      "22\n",
      "24\n",
      "26\n",
      "28\n",
      "30\n",
      "32\n",
      "34\n",
      "36\n",
      "38\n",
      "40\n",
      "42\n",
      "44\n",
      "46\n",
      "48\n",
      "50\n",
      "52\n",
      "54\n",
      "56\n",
      "58\n",
      "60\n",
      "62\n",
      "64\n",
      "66\n",
      "68\n",
      "70\n",
      "72\n",
      "74\n",
      "76\n",
      "78\n",
      "80\n",
      "82\n",
      "84\n",
      "86\n",
      "88\n",
      "90\n",
      "92\n",
      "94\n",
      "96\n",
      "98\n",
      "100\n"
     ]
    }
   ],
   "source": [
    "#1059 – Números Pares\n",
    "x = 0\n",
    "while x <= 98:\n",
    "    x += 2\n",
    "    print(x)"
   ]
  },
  {
   "cell_type": "code",
   "execution_count": null,
   "id": "a1c940be",
   "metadata": {},
   "outputs": [],
   "source": [
    "#1080 – Maior e Posição\n",
    "maior = -1\n",
    "posicao = -1\n",
    "for i in range(1, 101):\n",
    "    valor = int(input())\n",
    "    if valor > maior:\n",
    "        maior = valor\n",
    "        posicao = i\n",
    "print(maior)\n",
    "print(posicao)"
   ]
  },
  {
   "cell_type": "code",
   "execution_count": null,
   "id": "97c2e352",
   "metadata": {},
   "outputs": [],
   "source": [
    "#1094 – Experiências\n",
    "N = int(input())\n",
    "\n",
    "total = 0\n",
    "coelhos = 0\n",
    "ratos = 0\n",
    "sapos = 0\n",
    "\n",
    "for _ in range(N):\n",
    "    entrada = input().split()\n",
    "    quantidade = int(entrada[0])\n",
    "    tipo = entrada[1]\n",
    "\n",
    "    total += quantidade\n",
    "\n",
    "    if tipo == 'C':\n",
    "        coelhos += quantidade\n",
    "    elif tipo == 'R':\n",
    "        ratos += quantidade\n",
    "    elif tipo == 'S':\n",
    "        sapos += quantidade\n",
    "\n",
    "print(f\"Total: {total} cobaias\")\n",
    "print(f\"Total de coelhos: {coelhos}\")\n",
    "print(f\"Total de ratos: {ratos}\")\n",
    "print(f\"Total de sapos: {sapos}\")\n",
    "\n",
    "print(f\"Percentual de coelhos: {coelhos / total * 100:.2f} %\")\n",
    "print(f\"Percentual de ratos: {ratos / total * 100:.2f} %\")\n",
    "print(f\"Percentual de sapos: {sapos / total * 100:.2f} %\")"
   ]
  },
  {
   "cell_type": "code",
   "execution_count": 8,
   "id": "258cf559",
   "metadata": {},
   "outputs": [
    {
     "name": "stdout",
     "output_type": "stream",
     "text": [
      "Acesso Permitido\n"
     ]
    }
   ],
   "source": [
    "#1114 – Senha Fixa\n",
    "while True:\n",
    "    senha = int(input())\n",
    "    if senha == 2002:\n",
    "        print(\"Acesso Permitido\")\n",
    "        break\n",
    "    else:\n",
    "        print(\"Senha Invalida\")"
   ]
  },
  {
   "cell_type": "code",
   "execution_count": null,
   "id": "6cd1d528",
   "metadata": {},
   "outputs": [],
   "source": [
    "#1116 – Dividindo X por Y\n",
    "N = int(input())\n",
    "\n",
    "for _ in range(N):\n",
    "    linha = input().strip()\n",
    "    if linha:  \n",
    "        valores = linha.split()\n",
    "        if len(valores) == 2:\n",
    "            X, Y = map(int, valores)\n",
    "            if Y == 0:\n",
    "                print(\"divisao impossivel\")\n",
    "            else:\n",
    "                resultado = X / Y\n",
    "                print(f\"{resultado:.1f}\")"
   ]
  },
  {
   "cell_type": "code",
   "execution_count": 9,
   "id": "a0c4b1df",
   "metadata": {},
   "outputs": [
    {
     "name": "stdout",
     "output_type": "stream",
     "text": [
      "0 1 1 2 3\n"
     ]
    }
   ],
   "source": [
    "#1151 – Fibonacci Fácil\n",
    "N = int(input())\n",
    "primeiro = 0\n",
    "segundo = 1\n",
    "fibonacci = []\n",
    "for i in range(N):\n",
    "    fibonacci.append(str(primeiro)) \n",
    "    proximo = primeiro + segundo   \n",
    "    primeiro = segundo              \n",
    "    segundo = proximo           \n",
    "print(' '.join(fibonacci))"
   ]
  }
 ],
 "metadata": {
  "kernelspec": {
   "display_name": ".venv",
   "language": "python",
   "name": "python3"
  },
  "language_info": {
   "codemirror_mode": {
    "name": "ipython",
    "version": 3
   },
   "file_extension": ".py",
   "mimetype": "text/x-python",
   "name": "python",
   "nbconvert_exporter": "python",
   "pygments_lexer": "ipython3",
   "version": "3.12.1"
  }
 },
 "nbformat": 4,
 "nbformat_minor": 5
}
