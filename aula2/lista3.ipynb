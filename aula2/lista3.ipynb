{
 "cells": [
  {
   "cell_type": "code",
   "execution_count": 2,
   "id": "a590b72c",
   "metadata": {},
   "outputs": [
    {
     "name": "stdout",
     "output_type": "stream",
     "text": [
      "PROD = 27\n"
     ]
    }
   ],
   "source": [
    "#1004 – Produto Simples\n",
    "num1 = int(input())\n",
    "num2 = int(input())\n",
    "prod = num1 * num2\n",
    "print(\"PROD =\", prod)"
   ]
  },
  {
   "cell_type": "code",
   "execution_count": null,
   "id": "323e0589",
   "metadata": {},
   "outputs": [
    {
     "name": "stdout",
     "output_type": "stream",
     "text": [
      "MÉDIA = 6.43182\n"
     ]
    }
   ],
   "source": [
    "#1005 – Média 1\n",
    "a = float(input())\n",
    "b = float(input())\n",
    "media = (a * 3.5 + b *7.5) / 11\n",
    "print(f\"MEDIA = {media:.5f}\")"
   ]
  },
  {
   "cell_type": "code",
   "execution_count": 5,
   "id": "0a44b2c3",
   "metadata": {},
   "outputs": [
    {
     "name": "stdout",
     "output_type": "stream",
     "text": [
      "VOLUME = 113.097\n"
     ]
    }
   ],
   "source": [
    "#1011 – Esfera\n",
    "R = float(input())\n",
    "pi = 3.14159\n",
    "volume = (4/3) * pi * R**3\n",
    "print(f\"VOLUME = {volume:.3f}\")"
   ]
  }
 ],
 "metadata": {
  "kernelspec": {
   "display_name": ".venv",
   "language": "python",
   "name": "python3"
  },
  "language_info": {
   "codemirror_mode": {
    "name": "ipython",
    "version": 3
   },
   "file_extension": ".py",
   "mimetype": "text/x-python",
   "name": "python",
   "nbconvert_exporter": "python",
   "pygments_lexer": "ipython3",
   "version": "3.12.1"
  }
 },
 "nbformat": 4,
 "nbformat_minor": 5
}
