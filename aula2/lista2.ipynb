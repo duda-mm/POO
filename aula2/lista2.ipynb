{
 "cells": [
  {
   "cell_type": "code",
   "execution_count": 1,
   "id": "95b4de85",
   "metadata": {},
   "outputs": [
    {
     "name": "stdout",
     "output_type": "stream",
     "text": [
      "Bem-vindo (a) ao Python, Duda\n"
     ]
    }
   ],
   "source": [
    "#questão 1\n",
    "nome = input(\"Digite seu nome completo:\")\n",
    "print(\"Bem-vindo (a) ao Python,\", nome)"
   ]
  },
  {
   "cell_type": "code",
   "execution_count": 9,
   "id": "e8e39489",
   "metadata": {},
   "outputs": [
    {
     "name": "stdout",
     "output_type": "stream",
     "text": [
      "Média Parcial: 62\n"
     ]
    }
   ],
   "source": [
    "#questão 2\n",
    "bim_1 = int(input(\"Digite a nota do primeiro bimestre da disciplina:\"))\n",
    "bim_2 = int(input(\"Digite a nota do segundo bimestre da disciplina:\"))\n",
    "media = ((bim_1 * 2 + bim_2 * 3) // 5)\n",
    "print(\"Média Parcial:\", media)"
   ]
  },
  {
   "cell_type": "code",
   "execution_count": 12,
   "id": "b1850791",
   "metadata": {},
   "outputs": [
    {
     "name": "stdout",
     "output_type": "stream",
     "text": [
      "Área: 12.00 -  Perímetro: 14.00 -  Diagonal: 5.00\n"
     ]
    }
   ],
   "source": [
    "#questão 3\n",
    "import math\n",
    "\n",
    "base = float(input(\"Digite a base do retângulo:\"))\n",
    "altura = float(input(\"Digite a altura do retângulo\"))\n",
    "area = (base * altura)\n",
    "perimetro = base * 2 + altura * 2\n",
    "diagonal = math.sqrt(base ** 2 + altura ** 2)\n",
    "print(f\"Área: {area:.2f} - \", f\"Perímetro: {perimetro:.2f} - \", f\"Diagonal: {diagonal:.2f}\")"
   ]
  },
  {
   "cell_type": "code",
   "execution_count": 16,
   "id": "f1e03834",
   "metadata": {},
   "outputs": [
    {
     "name": "stdout",
     "output_type": "stream",
     "text": [
      "Python\n"
     ]
    }
   ],
   "source": [
    "#questão 4\n",
    "frase = input(\"Digite uma frase:\")\n",
    "ult_palavra = frase[frase.rfind(\" \") + 1:]\n",
    "print(ult_palavra)"
   ]
  }
 ],
 "metadata": {
  "kernelspec": {
   "display_name": ".venv",
   "language": "python",
   "name": "python3"
  },
  "language_info": {
   "codemirror_mode": {
    "name": "ipython",
    "version": 3
   },
   "file_extension": ".py",
   "mimetype": "text/x-python",
   "name": "python",
   "nbconvert_exporter": "python",
   "pygments_lexer": "ipython3",
   "version": "3.12.1"
  }
 },
 "nbformat": 4,
 "nbformat_minor": 5
}
