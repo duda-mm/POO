{
 "cells": [
  {
   "cell_type": "code",
   "execution_count": 5,
   "id": "521552c1",
   "metadata": {},
   "outputs": [
    {
     "name": "stdout",
     "output_type": "stream",
     "text": [
      "2\n"
     ]
    }
   ],
   "source": [
    "#questão 1\n",
    "num1, num2 = map(int, input().split())\n",
    "def maior(x,y):\n",
    "    if x > y:\n",
    "        return x\n",
    "    else:\n",
    "        return y\n",
    "resultado = maior(num1, num2)\n",
    "print(resultado)"
   ]
  },
  {
   "cell_type": "code",
   "execution_count": 4,
   "id": "2b127fb0",
   "metadata": {},
   "outputs": [
    {
     "name": "stdout",
     "output_type": "stream",
     "text": [
      "10\n"
     ]
    }
   ],
   "source": [
    "#questão 2\n",
    "num1,num2,num3 = map(int, input().split())\n",
    "def maior(x,y,z):\n",
    "    if x >= y and x >= z:\n",
    "        return x\n",
    "    elif y >= x and y >= z:\n",
    "        return y\n",
    "    else:\n",
    "        return z\n",
    "resultado = maior(num1,num2,num3)\n",
    "print(resultado)"
   ]
  },
  {
   "cell_type": "code",
   "execution_count": 3,
   "id": "cfae5124",
   "metadata": {},
   "outputs": [
    {
     "name": "stdout",
     "output_type": "stream",
     "text": [
      "EM\n"
     ]
    }
   ],
   "source": [
    "#questão 3\n",
    "def iniciais(nome):\n",
    "    partes = nome.split()\n",
    "    resultado = \"\"\n",
    "    for parte in partes:\n",
    "        resultado += parte[0].upper()\n",
    "    return resultado\n",
    "\n",
    "nome = input()\n",
    "print(iniciais(nome))"
   ]
  },
  {
   "cell_type": "code",
   "execution_count": 10,
   "id": "adf8a288",
   "metadata": {},
   "outputs": [
    {
     "name": "stdout",
     "output_type": "stream",
     "text": [
      "Aprovado\n"
     ]
    }
   ],
   "source": [
    "#questão 4\n",
    "def aprovado(nota1, nota2):\n",
    "    media = (nota1 + nota2) / 2\n",
    "    return media\n",
    "\n",
    "nota1 = float(input())\n",
    "nota2 = float(input())\n",
    "media = aprovado(nota1,nota2)\n",
    "\n",
    "if media >= 60:\n",
    "    print('Aprovado')\n",
    "else:\n",
    "    print('Prova Final')\n",
    "    "
   ]
  },
  {
   "cell_type": "code",
   "execution_count": 1,
   "id": "5293021e",
   "metadata": {},
   "outputs": [
    {
     "name": "stdout",
     "output_type": "stream",
     "text": [
      "Eduarda\n"
     ]
    }
   ],
   "source": [
    "#questão 5\n",
    "def formatar_nome(nome):\n",
    "    return nome.title()\n",
    "nome = input()\n",
    "print(formatar_nome(nome))"
   ]
  }
 ],
 "metadata": {
  "kernelspec": {
   "display_name": ".venv",
   "language": "python",
   "name": "python3"
  },
  "language_info": {
   "codemirror_mode": {
    "name": "ipython",
    "version": 3
   },
   "file_extension": ".py",
   "mimetype": "text/x-python",
   "name": "python",
   "nbconvert_exporter": "python",
   "pygments_lexer": "ipython3",
   "version": "3.12.1"
  }
 },
 "nbformat": 4,
 "nbformat_minor": 5
}
