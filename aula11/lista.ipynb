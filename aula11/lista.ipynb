{
 "cells": [
  {
   "cell_type": "code",
   "execution_count": null,
   "id": "9030eae7",
   "metadata": {},
   "outputs": [],
   "source": [
    "#questão 1"
   ]
  },
  {
   "cell_type": "code",
   "execution_count": null,
   "id": "b92ba77e",
   "metadata": {},
   "outputs": [
    {
     "ename": "ValueError",
     "evalue": "invalid literal for int() with base 10: ''",
     "output_type": "error",
     "traceback": [
      "\u001b[31m---------------------------------------------------------------------------\u001b[39m",
      "\u001b[31mValueError\u001b[39m                                Traceback (most recent call last)",
      "\u001b[36mCell\u001b[39m\u001b[36m \u001b[39m\u001b[32mIn[4]\u001b[39m\u001b[32m, line 83\u001b[39m\n\u001b[32m     80\u001b[39m             \u001b[38;5;28;01mif\u001b[39;00m elementos.get_nome().startswith(nome):\n\u001b[32m     81\u001b[39m                 \u001b[38;5;28mprint\u001b[39m(elementos)\n\u001b[32m---> \u001b[39m\u001b[32m83\u001b[39m \u001b[43mContatoUI\u001b[49m\u001b[43m.\u001b[49m\u001b[43mmain\u001b[49m\u001b[43m(\u001b[49m\u001b[43m)\u001b[49m\n",
      "\u001b[36mCell\u001b[39m\u001b[36m \u001b[39m\u001b[32mIn[4]\u001b[39m\u001b[32m, line 29\u001b[39m, in \u001b[36mContatoUI.main\u001b[39m\u001b[34m(csl)\u001b[39m\n\u001b[32m     27\u001b[39m op = \u001b[32m0\u001b[39m\n\u001b[32m     28\u001b[39m \u001b[38;5;28;01mwhile\u001b[39;00m op != \u001b[32m6\u001b[39m:\n\u001b[32m---> \u001b[39m\u001b[32m29\u001b[39m     op = \u001b[43mContatoUI\u001b[49m\u001b[43m.\u001b[49m\u001b[43mmenu\u001b[49m\u001b[43m(\u001b[49m\u001b[43m)\u001b[49m\n\u001b[32m     30\u001b[39m     \u001b[38;5;28;01mif\u001b[39;00m op == \u001b[32m1\u001b[39m: ContatoUI.inserir()\n\u001b[32m     31\u001b[39m     \u001b[38;5;28;01mif\u001b[39;00m op == \u001b[32m2\u001b[39m: ContatoUI.listar()\n",
      "\u001b[36mCell\u001b[39m\u001b[36m \u001b[39m\u001b[32mIn[4]\u001b[39m\u001b[32m, line 38\u001b[39m, in \u001b[36mContatoUI.menu\u001b[39m\u001b[34m(cls)\u001b[39m\n\u001b[32m     36\u001b[39m \u001b[38;5;129m@classmethod\u001b[39m\n\u001b[32m     37\u001b[39m \u001b[38;5;28;01mdef\u001b[39;00m\u001b[38;5;250m \u001b[39m\u001b[34mmenu\u001b[39m(\u001b[38;5;28mcls\u001b[39m):\n\u001b[32m---> \u001b[39m\u001b[32m38\u001b[39m     pergunta = (\u001b[38;5;28;43mint\u001b[39;49m\u001b[43m(\u001b[49m\u001b[38;5;28;43minput\u001b[39;49m\u001b[43m(\u001b[49m\u001b[33;43m'\u001b[39;49m\u001b[33;43m1 - Inserir | 2 - Listar | 3 - Atualizar | 4 - Excluir | 5 - Pesquisar\u001b[39;49m\u001b[33;43m'\u001b[39;49m\u001b[43m)\u001b[49m\u001b[43m)\u001b[49m)\n\u001b[32m     39\u001b[39m     \u001b[38;5;28;01mreturn\u001b[39;00m \u001b[33mf\u001b[39m\u001b[33m'\u001b[39m\u001b[33mInforme uma opção \u001b[39m\u001b[38;5;132;01m{\u001b[39;00mpergunta\u001b[38;5;132;01m}\u001b[39;00m\u001b[33m'\u001b[39m\n",
      "\u001b[31mValueError\u001b[39m: invalid literal for int() with base 10: ''"
     ]
    }
   ],
   "source": [
    "#questão 2\n",
    "class Contato:\n",
    "    def __init__(self, id, nome, email, tel):\n",
    "        self.__id = id\n",
    "        self.__nome = nome\n",
    "        self.__email = email\n",
    "        self.__tel =  tel\n",
    "        \n",
    "    def set_novo_nome(self,novo_nome):\n",
    "        novo_nome = self.__nome\n",
    "    def set_novo_email(self, novo_email):\n",
    "        novo_email = self.__email\n",
    "    def set_novo_telefone(self, novo_telefone):\n",
    "        novo_telefone = self.__telefone\n",
    "\n",
    "    def get_nome(self):\n",
    "        return self.__nome\n",
    "\n",
    "    def __str__(self):\n",
    "        return f'ID - {self.__id} | Nome: {self.__nome} | Email - {self.__email} | Telefone - {self.__tel}'\n",
    "    \n",
    "class ContatoUI:\n",
    "    __contatos = []\n",
    " \n",
    "    @classmethod \n",
    "    def main(csl): #equivalente ao self\n",
    "        op = 0\n",
    "        while op != 6:\n",
    "            op = ContatoUI.menu()\n",
    "            if op == 1: ContatoUI.inserir()\n",
    "            if op == 2: ContatoUI.listar()\n",
    "            if op == 3: ContatoUI.atualizar()\n",
    "            if op == 4: ContatoUI.excluir()\n",
    "            if op == 5: ContatoUI.pesquisar()\n",
    "    \n",
    "    @classmethod\n",
    "    def menu(cls):\n",
    "        pergunta = (int(input('1 - Inserir | 2 - Listar | 3 - Atualizar | 4 - Excluir | 5 - Pesquisar | 6 - Fim')))\n",
    "        return f'Informe uma opção {pergunta}'\n",
    "\n",
    "    @classmethod\n",
    "    def inserir(cls):\n",
    "        id = int(input('Informe o ID: '))\n",
    "        nome = int(input('Informe o nome: '))\n",
    "        email = int(input('Informe o email: '))\n",
    "        telefone = int(input('Informe o telefone: '))\n",
    "        elementos = Contato(id, nome, email, telefone)\n",
    "        cls.__contatos.append(elementos)\n",
    "\n",
    "    @classmethod\n",
    "    def listar(cls):\n",
    "        for elementos in cls.__contatos:\n",
    "            print(elementos)\n",
    "\n",
    "    @classmethod\n",
    "    def atualizar(cls):\n",
    "        nome = input('Informe o nome do contato para atualizar:')\n",
    "        for elementos in cls.__contatos:\n",
    "            if elementos.get_nome() == nome:\n",
    "                novo_nome = input('Informe um nome novo:')\n",
    "                novo_telefone = input('Informe um telefone novo:')\n",
    "                novo_email = input('Informe um email novo:')\n",
    "                elementos.set_novo_nome(novo_nome)\n",
    "                elementos.set_novo_telefone(novo_telefone)\n",
    "                elementos.set_novo_email(novo_email)\n",
    "                print('Contato Atualizado')\n",
    "\n",
    "    @classmethod\n",
    "    def excluir(cls):\n",
    "        nome = input('Informe o nome do contato para excluir:')\n",
    "        for elementos in cls.__contatos:\n",
    "            if elementos.get_nome() == nome:\n",
    "                cls.__contatos.remove(elementos)\n",
    "                print('Contato excluído')\n",
    "\n",
    "    @classmethod\n",
    "    def pesquisar(cls):\n",
    "        nome = input('Informe o nome do contato:')\n",
    "        for elementos in cls.__contatos:\n",
    "            if elementos.get_nome().startswith(nome):\n",
    "                print(elementos)\n",
    "\n",
    "ContatoUI.main()\n",
    "        "
   ]
  },
  {
   "cell_type": "code",
   "execution_count": null,
   "id": "0b796130",
   "metadata": {},
   "outputs": [],
   "source": [
    "#questão 3"
   ]
  }
 ],
 "metadata": {
  "kernelspec": {
   "display_name": "Python 3",
   "language": "python",
   "name": "python3"
  },
  "language_info": {
   "codemirror_mode": {
    "name": "ipython",
    "version": 3
   },
   "file_extension": ".py",
   "mimetype": "text/x-python",
   "name": "python",
   "nbconvert_exporter": "python",
   "pygments_lexer": "ipython3",
   "version": "3.12.1"
  }
 },
 "nbformat": 4,
 "nbformat_minor": 5
}
