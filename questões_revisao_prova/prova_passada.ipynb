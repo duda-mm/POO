{
 "cells": [
  {
   "cell_type": "code",
   "execution_count": null,
   "id": "8ff02b5a",
   "metadata": {},
   "outputs": [],
   "source": [
    "''' \n",
    "11\n",
    "-10\n",
    "12.5\n",
    "4\n",
    "2.5\n",
    "'''"
   ]
  },
  {
   "cell_type": "code",
   "execution_count": 16,
   "id": "9ed91f93",
   "metadata": {},
   "outputs": [
    {
     "name": "stdout",
     "output_type": "stream",
     "text": [
      "10 15 20\n",
      "Soma dos pares: 30\n"
     ]
    }
   ],
   "source": [
    "a,b,c = map(int, input('Digite três números inteiros separados por espaços').split())\n",
    "print(a,b,c)\n",
    "\n",
    "list = []\n",
    "if a % 2 == 0:\n",
    "    list.append(a)\n",
    "if b % 2 == 0:\n",
    "    list.append(b)\n",
    "if c % 2 == 0:\n",
    "    list.append(c)\n",
    "x = 0\n",
    "for i in list:\n",
    "    x += i\n",
    "print('Soma dos pares:', x)"
   ]
  },
  {
   "cell_type": "code",
   "execution_count": 15,
   "id": "bc3d0b17",
   "metadata": {},
   "outputs": [
    {
     "name": "stdout",
     "output_type": "stream",
     "text": [
      "Técnico em Informática\n",
      "Tcioe nomtc"
     ]
    }
   ],
   "source": [
    "frase = input('Escreva uma frase:')\n",
    "print(frase)\n",
    "\n",
    "quant_letras = len(frase)\n",
    "for i in range(0, quant_letras, 2):\n",
    "    print(frase[i], end = '')"
   ]
  },
  {
   "cell_type": "code",
   "execution_count": 9,
   "id": "6ba19ebf",
   "metadata": {},
   "outputs": [
    {
     "name": "stdout",
     "output_type": "stream",
     "text": [
      "94\n"
     ]
    }
   ],
   "source": [
    "class Agua():\n",
    "    def __init__(self):\n",
    "        self.mes = 1\n",
    "        self.ano = 2025\n",
    "        self.consumo = 0\n",
    "    def ContaAgua(self):\n",
    "        if self.consumo == 10:\n",
    "            return 38\n",
    "        if 11 <= self.consumo <= 20:\n",
    "            return 38 + (self.consumo - 10) * 5\n",
    "        if self.consumo >= 21:\n",
    "            return 88 + (self.consumo - 20) * 6\n",
    "\n",
    "x = Agua()\n",
    "x.mes = int(input('Qual mes da conta que voce quer pagar?'))\n",
    "x.ano = int(input('Qual o ano da conta que voce quer pagar?'))\n",
    "x.consumo = int(input('Qual foi o consumo de agua do mes que voce quer pagar?'))\n",
    "print(x.ContaAgua())"
   ]
  }
 ],
 "metadata": {
  "kernelspec": {
   "display_name": ".venv",
   "language": "python",
   "name": "python3"
  },
  "language_info": {
   "codemirror_mode": {
    "name": "ipython",
    "version": 3
   },
   "file_extension": ".py",
   "mimetype": "text/x-python",
   "name": "python",
   "nbconvert_exporter": "python",
   "pygments_lexer": "ipython3",
   "version": "3.12.1"
  }
 },
 "nbformat": 4,
 "nbformat_minor": 5
}
