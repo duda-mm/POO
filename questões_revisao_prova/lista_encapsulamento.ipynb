{
 "cells": [
  {
   "cell_type": "code",
   "execution_count": 15,
   "id": "bb92a578",
   "metadata": {},
   "outputs": [
    {
     "name": "stdout",
     "output_type": "stream",
     "text": [
      "Destino - SP | Distância - 2800 Km | Combustível - 10 L\n",
      "Consumo Médio: 280.00 Km/L\n",
      "Fim\n"
     ]
    }
   ],
   "source": [
    "class Viagem:\n",
    "    def __init__(self, destino, distancia, combustivel):\n",
    "        self.set_destino(destino)\n",
    "        self.set_distancia(distancia)\n",
    "        self.set_combustivel(combustivel)\n",
    "\n",
    "    def set_destino(self, destino):\n",
    "        self.__destino = destino\n",
    "    def get_destino(self):\n",
    "        return self.__destino\n",
    "\n",
    "    def set_distancia(self, distancia):\n",
    "        self.__distancia = distancia\n",
    "    def get_distancia(self):\n",
    "        return self.__distancia\n",
    "\n",
    "    def set_combustivel(self, combustivel):\n",
    "        self.__combustivel = combustivel\n",
    "    def get_combustivel(self):\n",
    "        return self.__combustivel\n",
    "\n",
    "    def ConsumoMedio(self):\n",
    "        return f'{self.__distancia / self.__combustivel:.2f}'\n",
    "    \n",
    "    def __str__(self):\n",
    "        return f'Destino - {self.__destino} | Distância - {self.__distancia} Km | Combustível - {self.__combustivel} L'\n",
    "    \n",
    "\n",
    "class Viagem_UI:\n",
    "    @staticmethod\n",
    "    def menu():\n",
    "        pergunta = int(input('“1 – Calcular | 2 – Fim'))\n",
    "        return pergunta\n",
    "\n",
    "    @staticmethod\n",
    "    def method():\n",
    "        x = Viagem(str(input('Destino: ')), int(input('Distância: ')), int(input('Combustível: ')))\n",
    "        print(x)\n",
    "        print(f'Consumo Médio: {x.ConsumoMedio()} Km/L')\n",
    "\n",
    "    @staticmethod\n",
    "    def main():\n",
    "        escolha = 0\n",
    "        while escolha != 2:\n",
    "            escolha = Viagem_UI.menu()\n",
    "            if escolha == 1: Viagem_UI.method()\n",
    "            else: print('Fim')\n",
    "\n",
    "Viagem_UI.main()"
   ]
  },
  {
   "cell_type": "code",
   "execution_count": null,
   "id": "f05f6cb4",
   "metadata": {},
   "outputs": [
    {
     "name": "stdout",
     "output_type": "stream",
     "text": [
      "Nome - Portugal | População - 10600000 habitantes | Área - 92152 km²\n",
      "Densidade Demográfica: 115.03 habitantes/km²\n",
      "Fim\n"
     ]
    }
   ],
   "source": [
    "class Pais:\n",
    "    def __init__(self, nome, populacao, area):\n",
    "        self.set_nome(nome)\n",
    "        self.set_populacao(populacao)\n",
    "        self.set_area(area)\n",
    "    \n",
    "    def set_nome(self, nome):\n",
    "        self.__nome = nome\n",
    "    def get_nome(self):\n",
    "        return self.__nome\n",
    "\n",
    "    def set_populacao(self, populacao):\n",
    "        self.__populacao = populacao\n",
    "    def get_populacao(self):\n",
    "        return self.__populacao\n",
    "\n",
    "    def set_area(self, area):\n",
    "        self.__area = area\n",
    "    def get_area(self):\n",
    "        return self.__area\n",
    "\n",
    "    def CalcDensidade(self):\n",
    "        return f'{self.__populacao / self.__area:.2f}'\n",
    "    \n",
    "    def __str__(self):\n",
    "        return f'Nome - {self.__nome} | População - {self.__populacao} habitantes | Área - {self.__area} km²'\n",
    "    \n",
    "\n",
    "class Pais_UI:\n",
    "    @staticmethod\n",
    "    def menu():\n",
    "        pergunta = int(input('1 - Calcular | 2 - Fim'))\n",
    "        return pergunta\n",
    "    \n",
    "    @staticmethod\n",
    "    def method():\n",
    "        nome = str(input('Nome: '))\n",
    "        populacao = int(input('População: '))\n",
    "        area = int(input('Área: '))\n",
    "        x = Pais(nome, populacao, area)\n",
    "        print(x)\n",
    "        print(f'Densidade Demográfica: {x.CalcDensidade()} habitantes/km²')\n",
    "\n",
    "    @staticmethod\n",
    "    def main():\n",
    "        escolha = 0\n",
    "        while escolha != 2:\n",
    "            escolha = Pais_UI.menu()\n",
    "            if escolha == 1: Pais_UI.method()\n",
    "            else: print('Fim')\n",
    "\n",
    "Pais_UI.main()"
   ]
  }
 ],
 "metadata": {
  "kernelspec": {
   "display_name": ".venv",
   "language": "python",
   "name": "python3"
  },
  "language_info": {
   "codemirror_mode": {
    "name": "ipython",
    "version": 3
   },
   "file_extension": ".py",
   "mimetype": "text/x-python",
   "name": "python",
   "nbconvert_exporter": "python",
   "pygments_lexer": "ipython3",
   "version": "3.12.1"
  }
 },
 "nbformat": 4,
 "nbformat_minor": 5
}
