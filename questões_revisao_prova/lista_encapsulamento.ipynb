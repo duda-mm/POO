{
 "cells": [
  {
   "cell_type": "code",
   "execution_count": 18,
   "id": "bb92a578",
   "metadata": {},
   "outputs": [
    {
     "name": "stdout",
     "output_type": "stream",
     "text": [
      "10.00\n",
      "Fim\n"
     ]
    }
   ],
   "source": [
    "class Viagem:\n",
    "    def __init__(self, destino, distancia, combustivel):\n",
    "        self.set_destino(destino)\n",
    "        self.set_distancia(distancia)\n",
    "        self.set_combustivel(combustivel)\n",
    "\n",
    "    def set_destino(self, destino):\n",
    "        self.__destino = destino\n",
    "    def get_destino(self):\n",
    "        return self.__destino\n",
    "\n",
    "    def set_distancia(self, distancia):\n",
    "        self.__distancia = distancia\n",
    "    def get_distancia(self):\n",
    "        return self.__distancia\n",
    "\n",
    "    def set_combustivel(self, combustivel):\n",
    "        self.__combustivel = combustivel\n",
    "    def get_combustivel(self):\n",
    "        return self.__combustivel\n",
    "\n",
    "    def ConsumoMedio(self):\n",
    "        return f'{self.__distancia / self.__combustivel:.2f}'\n",
    "    \n",
    "    def __str__(self):\n",
    "        return f'Destino - {self.__destino} | Distância - {self.__distancia} Km | Combustível - {self.__combustivel} L'\n",
    "    \n",
    "\n",
    "class Viagem_UI:\n",
    "    @staticmethod\n",
    "    def menu():\n",
    "        pergunta = int(input('“1 – Calcular | 2 – Fim'))\n",
    "        return pergunta\n",
    "    @staticmethod\n",
    "    def main():\n",
    "        escolha = 0\n",
    "        while escolha != 2:\n",
    "            escolha = Viagem_UI.menu()\n",
    "            if escolha == 1: Viagem_UI.method()\n",
    "            if escolha == 2: print('Fim')\n",
    "    @staticmethod\n",
    "    def method():\n",
    "        x = Viagem(str(input('Qual o destino da viagem?')), int(input('Qual foi a quantidade de combustível utilizada em litros?')), int(input('Qual a distância até o seu destino em quilômetros?')))\n",
    "        print(x.ConsumoMedio())\n",
    "\n",
    "\n",
    "Viagem_UI.main()"
   ]
  },
  {
   "cell_type": "code",
   "execution_count": null,
   "id": "f05f6cb4",
   "metadata": {},
   "outputs": [],
   "source": []
  }
 ],
 "metadata": {
  "kernelspec": {
   "display_name": ".venv",
   "language": "python",
   "name": "python3"
  },
  "language_info": {
   "codemirror_mode": {
    "name": "ipython",
    "version": 3
   },
   "file_extension": ".py",
   "mimetype": "text/x-python",
   "name": "python",
   "nbconvert_exporter": "python",
   "pygments_lexer": "ipython3",
   "version": "3.12.1"
  }
 },
 "nbformat": 4,
 "nbformat_minor": 5
}
