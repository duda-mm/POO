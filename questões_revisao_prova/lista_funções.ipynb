{
 "cells": [
  {
   "cell_type": "code",
   "execution_count": null,
   "id": "dfeaf13f",
   "metadata": {},
   "outputs": [
    {
     "name": "stdout",
     "output_type": "stream",
     "text": [
      "Menor número: 5\n"
     ]
    }
   ],
   "source": [
    "#questão 1\n",
    "def Menor(x,y):\n",
    "    if x < y:\n",
    "        return x\n",
    "    else:\n",
    "        return y\n",
    "print(Menor(5,10))"
   ]
  },
  {
   "cell_type": "code",
   "execution_count": 16,
   "id": "a5a2593b",
   "metadata": {},
   "outputs": [
    {
     "name": "stdout",
     "output_type": "stream",
     "text": [
      "78.5\n"
     ]
    }
   ],
   "source": [
    "#questão 2\n",
    "def AreaCirculo(raio):\n",
    "    return 3.14 * (raio ** 2)\n",
    "print(AreaCirculo(5))"
   ]
  },
  {
   "cell_type": "code",
   "execution_count": 17,
   "id": "2042b9d4",
   "metadata": {},
   "outputs": [
    {
     "name": "stdout",
     "output_type": "stream",
     "text": [
      "10.0\n"
     ]
    }
   ],
   "source": [
    "#questão 3\n",
    "import math\n",
    "def Diagonal(b,h):\n",
    "    return math.sqrt(b**2 + h **2)\n",
    "print(Diagonal(6,8))"
   ]
  },
  {
   "cell_type": "code",
   "execution_count": 18,
   "metadata": {},
   "outputs": [
    {
     "name": "stdout",
     "output_type": "stream",
     "text": [
      "1500.0\n"
     ]
    }
   ],
   "source": [
    "#questão 6\n",
    "def Frete(massa,distancia):\n",
    "    return massa * distancia * 0.01\n",
    "print(Frete(300,500))"
   ]
  },
  {
   "cell_type": "code",
   "execution_count": 21,
   "id": "142fad1f",
   "metadata": {},
   "outputs": [
    {
     "name": "stdout",
     "output_type": "stream",
     "text": [
      "5.0\n"
     ]
    }
   ],
   "source": [
    "#questão 7\n",
    "def MenorInteiro(x):\n",
    "    return x // 1\n",
    "print(MenorInteiro(5.3))"
   ]
  },
  {
   "cell_type": "code",
   "execution_count": 29,
   "id": "6abb2517",
   "metadata": {},
   "outputs": [
    {
     "name": "stdout",
     "output_type": "stream",
     "text": [
      "15\n"
     ]
    }
   ],
   "source": [
    "#questão 8\n",
    "def Soma(inicio,fim):\n",
    "    x = 0\n",
    "    for i in range(inicio, fim + 1):\n",
    "        x += i\n",
    "    return x\n",
    "print(Soma(1,5))"
   ]
  },
  {
   "cell_type": "code",
   "execution_count": 32,
   "id": "8339b95e",
   "metadata": {},
   "outputs": [
    {
     "name": "stdout",
     "output_type": "stream",
     "text": [
      "Euaa\n"
     ]
    }
   ],
   "source": [
    "#questão 9\n",
    "def Vogais(texto):\n",
    "    vogais = 'aeiouAEIOU'\n",
    "    resultado = ''\n",
    "    for letra in texto:\n",
    "        if letra in vogais:\n",
    "            resultado += letra\n",
    "    return resultado\n",
    "print(Vogais('Eduarda'))"
   ]
  },
  {
   "cell_type": "code",
   "execution_count": null,
   "id": "2b98ea2d",
   "metadata": {},
   "outputs": [],
   "source": [
    "#questão 11"
   ]
  },
  {
   "cell_type": "code",
   "execution_count": null,
   "metadata": {},
   "outputs": [],
   "source": [
    "#questão 12"
   ]
  },
  {
   "cell_type": "code",
   "execution_count": 64,
   "id": "f7ce61cc",
   "metadata": {},
   "outputs": [
    {
     "name": "stdout",
     "output_type": "stream",
     "text": [
      "MEDEIROS, E\n"
     ]
    }
   ],
   "source": [
    "#questão 13\n",
    "def Referencia(nome):\n",
    "    nome = nome.split()\n",
    "    iniciais = ''\n",
    "    for i in nome:\n",
    "        iniciais += i[0]\n",
    "    return f'{nome[-1].upper()}, {iniciais[:-1]}'\n",
    "print(Referencia('Eduarda Medeiros'))"
   ]
  },
  {
   "cell_type": "code",
   "execution_count": 65,
   "metadata": {},
   "outputs": [],
   "source": [
    "#questão 16"
   ]
  },
  {
   "cell_type": "code",
   "execution_count": null,
   "id": "d3d32ee3",
   "metadata": {},
   "outputs": [],
   "source": [
    "#questão 17"
   ]
  },
  {
   "cell_type": "code",
   "execution_count": 66,
   "id": "16fb6941",
   "metadata": {},
   "outputs": [
    {
     "name": "stdout",
     "output_type": "stream",
     "text": [
      "2 5 7\n"
     ]
    }
   ],
   "source": [
    "#questão 18\n",
    "def MostrarOrdenado(a,b,c):\n",
    "    if a > b:\n",
    "        a,b = b,a\n",
    "    if a > c:\n",
    "        a,c = c,a\n",
    "    if b > c:\n",
    "        b,c = c,b\n",
    "    print(a,b,c)\n",
    "MostrarOrdenado(7,2,5)"
   ]
  }
 ],
 "metadata": {
  "kernelspec": {
   "display_name": ".venv",
   "language": "python",
   "name": "python3"
  },
  "language_info": {
   "codemirror_mode": {
    "name": "ipython",
    "version": 3
   },
   "file_extension": ".py",
   "mimetype": "text/x-python",
   "name": "python",
   "nbconvert_exporter": "python",
   "pygments_lexer": "ipython3",
   "version": "3.12.1"
  }
 },
 "nbformat": 4,
 "nbformat_minor": 5
}
