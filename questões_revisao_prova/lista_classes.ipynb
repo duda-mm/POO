{
 "cells": [
  {
   "cell_type": "code",
   "execution_count": 7,
   "id": "962f71fc",
   "metadata": {},
   "outputs": [
    {
     "name": "stdout",
     "output_type": "stream",
     "text": [
      "Área: 78.50\n",
      "Circunferência: 31.40\n"
     ]
    }
   ],
   "source": [
    "#questão 1\n",
    "class Circulo():\n",
    "    def __init__(self):\n",
    "        self.raio = 0\n",
    "    def Area(self):\n",
    "        self.area = 3.14 * (self.raio ** 2)\n",
    "        return self.area\n",
    "    def Circunferencia(self):\n",
    "        self.circunferencia = 2 * 3.14 * self.raio\n",
    "        return self.circunferencia\n",
    "valor = Circulo()\n",
    "valor.raio = 5\n",
    "print(f'Área: {valor.Area():.2f}')\n",
    "print(f'Circunferência: {valor.Circunferencia():.2f}')"
   ]
  },
  {
   "cell_type": "code",
   "execution_count": 23,
   "id": "5485c794",
   "metadata": {},
   "outputs": [
    {
     "name": "stdout",
     "output_type": "stream",
     "text": [
      "Velocidade Média: 42.86\n"
     ]
    }
   ],
   "source": [
    "#questão 2\n",
    "class Viagem():\n",
    "    def __init__(self):\n",
    "        self.distancia = 0\n",
    "        self.tempo_h = 0\n",
    "        self.tempo_m = 0 \n",
    "    def Velocidade_media(self):\n",
    "        self.vm = self.distancia / (self.tempo_h + self.tempo_m / 60)\n",
    "        return self.vm\n",
    "valor = Viagem()\n",
    "valor.distancia = 150\n",
    "valor.tempo_h = 3\n",
    "valor.tempo_m = 30\n",
    "print(f'Velocidade Média: {valor.Velocidade_media():.2f}')"
   ]
  },
  {
   "cell_type": "code",
   "execution_count": null,
   "id": "f50d6988",
   "metadata": {},
   "outputs": [
    {
     "name": "stdout",
     "output_type": "stream",
     "text": [
      "Saldo de 200 e depósito de 50\n",
      "Novo saldo: 250\n",
      "\n",
      "Saldo de 200 e saque de 70\n",
      "Novo saldo: 130\n"
     ]
    }
   ],
   "source": [
    "#questão 3\n",
    "class Conta():\n",
    "    def __init__(self,nome):\n",
    "        self.nome = nome\n",
    "        self.saldo = 0\n",
    "    def Deposito(self):\n",
    "        self.deposito += self.saldo\n",
    "        return self.deposito\n",
    "    def Saque(self):\n",
    "        self.saque = self.saldo - self.saque\n",
    "        return self.saque\n",
    "valor = Conta('José')\n",
    "valor.saldo = 200\n",
    "valor.deposito = 50\n",
    "valor.saque = 70\n",
    "print(f'Saldo de {valor.saldo} e depósito de {valor.deposito}\\nNovo saldo: {valor.Deposito()}\\n')\n",
    "print(f'Saldo de {valor.saldo} e saque de {valor.saque}\\nNovo saldo: {valor.Saque()}')"
   ]
  },
  {
   "cell_type": "code",
   "execution_count": 41,
   "id": "5acef781",
   "metadata": {},
   "outputs": [
    {
     "name": "stdout",
     "output_type": "stream",
     "text": [
      "30.0\n"
     ]
    }
   ],
   "source": [
    "#questão 4\n",
    "class Cinema():\n",
    "    def __init__(self, dia):\n",
    "        self.dia = dia\n",
    "        self.horario = 0\n",
    "    def Dias(self):\n",
    "        if self.dia == 'qua':\n",
    "            valor = 8\n",
    "            return valor\n",
    "        if self.dia == 'seg' or self.dia == 'ter' or self.dia == 'qui':\n",
    "            valor = 16\n",
    "        else: \n",
    "            valor = 20\n",
    "        if self.horario >= 17 or self.horario == 0:\n",
    "            return valor * 1.5\n",
    "valor = Cinema('dom')\n",
    "valor.horario = 18\n",
    "print(valor.Dias())"
   ]
  }
 ],
 "metadata": {
  "kernelspec": {
   "display_name": ".venv",
   "language": "python",
   "name": "python3"
  },
  "language_info": {
   "codemirror_mode": {
    "name": "ipython",
    "version": 3
   },
   "file_extension": ".py",
   "mimetype": "text/x-python",
   "name": "python",
   "nbconvert_exporter": "python",
   "pygments_lexer": "ipython3",
   "version": "3.12.1"
  }
 },
 "nbformat": 4,
 "nbformat_minor": 5
}
