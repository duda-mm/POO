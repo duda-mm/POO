{
 "cells": [
  {
   "cell_type": "code",
   "execution_count": 3,
   "id": "cf26248d",
   "metadata": {},
   "outputs": [
    {
     "name": "stdout",
     "output_type": "stream",
     "text": [
      "[2, 5, 10]\n"
     ]
    }
   ],
   "source": [
    "valores = []\n",
    "for i in range(3):\n",
    "    valor = int(input())\n",
    "    valores.append(valor)\n",
    "    valores.sort()\n",
    "print(valores)"
   ]
  },
  {
   "cell_type": "code",
   "execution_count": null,
   "id": "7927d143",
   "metadata": {},
   "outputs": [
    {
     "name": "stdout",
     "output_type": "stream",
     "text": [
      "4.0\n",
      "[10]\n",
      "[1, 2, 3]\n"
     ]
    }
   ],
   "source": [
    "lista = []\n",
    "maiores = []\n",
    "menores = []\n",
    "soma = 0\n",
    "\n",
    "for i in range(4):\n",
    "    valor = int(input())\n",
    "    lista.append(valor)\n",
    "    soma += valor\n",
    "    media = soma / 4\n",
    "print(media)\n",
    "\n",
    "for n in lista:\n",
    "    if n < media:\n",
    "        menores.append(n)  \n",
    "    else:\n",
    "        maiores.append(n)\n",
    "print(maiores)\n",
    "print(menores)\n"
   ]
  },
  {
   "cell_type": "code",
   "execution_count": null,
   "id": "00656046",
   "metadata": {},
   "outputs": [
    {
     "name": "stdout",
     "output_type": "stream",
     "text": [
      "6\n",
      "4\n"
     ]
    }
   ],
   "source": [
    "valor = []\n",
    "somap = 0\n",
    "somai = 0\n",
    "\n",
    "for i in range(4):\n",
    "    numeros = int(input())\n",
    "    valor.append(numeros)\n",
    "\n",
    "for num in valor:\n",
    "    if num % 2 == 0:\n",
    "        somap+=num\n",
    "    else:\n",
    "        somai+=num\n",
    "        \n",
    "print(somap)\n",
    "print(somai)"
   ]
  },
  {
   "cell_type": "code",
   "execution_count": 32,
   "id": "a20ee711",
   "metadata": {},
   "outputs": [
    {
     "name": "stdout",
     "output_type": "stream",
     "text": [
      "Bem vindo Jorge\n"
     ]
    }
   ],
   "source": [
    "nome = input()\n",
    "partes = nome.split()\n",
    "first = partes[0]\n",
    "print('Bem vindo', first)"
   ]
  },
  {
   "cell_type": "code",
   "execution_count": 39,
   "id": "06323145",
   "metadata": {},
   "outputs": [
    {
     "name": "stdout",
     "output_type": "stream",
     "text": [
      "JESDM\n"
     ]
    }
   ],
   "source": [
    "def iniciais(nome):\n",
    "    partes = nome.split()\n",
    "    resultado = ''\n",
    "    for i in partes:\n",
    "        resultado += i[0].upper()\n",
    "    return resultado\n",
    "print(iniciais('Jorge Eduardo Salviano de Medeiros'))"
   ]
  },
  {
   "cell_type": "code",
   "execution_count": 49,
   "id": "a3daa2b9",
   "metadata": {},
   "outputs": [
    {
     "name": "stdout",
     "output_type": "stream",
     "text": [
      "6\n"
     ]
    }
   ],
   "source": [
    "def maior(x,y,z):\n",
    "    if x > y and x > z:\n",
    "        return x\n",
    "    elif y > x and y > z:\n",
    "        return y\n",
    "    else:\n",
    "        return z\n",
    "print(maior(3,2,6))"
   ]
  },
  {
   "cell_type": "code",
   "execution_count": 53,
   "id": "81b56058",
   "metadata": {},
   "outputs": [
    {
     "name": "stdout",
     "output_type": "stream",
     "text": [
      "Aprovado\n"
     ]
    }
   ],
   "source": [
    "def aprovado(nota1, nota2):\n",
    "    media = (nota1 + nota2)/2\n",
    "    if media >= 60:\n",
    "        return 'Aprovado'\n",
    "    else:\n",
    "        return 'Reprovado'\n",
    "print(aprovado(100,60))"
   ]
  },
  {
   "cell_type": "code",
   "execution_count": 65,
   "id": "2f497977",
   "metadata": {},
   "outputs": [
    {
     "name": "stdout",
     "output_type": "stream",
     "text": [
      "Jorge Eduardo \n"
     ]
    }
   ],
   "source": [
    "def formatar_nome(nome):\n",
    "    partes = nome.split()\n",
    "    resultado = ''\n",
    "    for i in partes:\n",
    "        formatar = i[0].upper() + i[1:] + ' '\n",
    "        resultado += formatar\n",
    "    return resultado\n",
    "print(formatar_nome('jorge eduardo'))"
   ]
  },
  {
   "cell_type": "code",
   "execution_count": 9,
   "id": "886580f1",
   "metadata": {},
   "outputs": [
    {
     "name": "stdout",
     "output_type": "stream",
     "text": [
      "O consumo do mes 9, do ano de 2023 foi de 94.0\n"
     ]
    }
   ],
   "source": [
    "class Energia():\n",
    "    def __init__(self):\n",
    "        self.ano = 2025\n",
    "        self.mes = 1\n",
    "        self.consumo = 0\n",
    "    def Conta(self):\n",
    "        if self.consumo <= 50:\n",
    "            return 30\n",
    "        if 51 <= self.consumo <= 100:\n",
    "            return 30 + (self.consumo - 50) * 0.8\n",
    "        if self.consumo > 100:\n",
    "            return 30 + 40 + (self.consumo - 100) * 1.2\n",
    "x = Energia()\n",
    "x.mes = int(input('mes'))\n",
    "x.ano = int(input('ano'))\n",
    "x.consumo = int(input('consumo'))\n",
    "print(f'O consumo do mes {x.mes}, do ano de {x.ano} foi de {x.Conta()}')"
   ]
  },
  {
   "cell_type": "code",
   "execution_count": 10,
   "id": "0671254b",
   "metadata": {},
   "outputs": [
    {
     "name": "stdout",
     "output_type": "stream",
     "text": [
      "Área = 25, Perímetro = 20, É quadrado? True\n"
     ]
    }
   ],
   "source": [
    "class Retangulo():\n",
    "    def __init__(self):\n",
    "        self.altura = 0\n",
    "        self.largura = 0\n",
    "    def Area(self):\n",
    "        return self.largura * self.altura\n",
    "    def Perimetro(self):\n",
    "        return (self.altura * 2) + (self.largura * 2)\n",
    "    def Quadrado(self):\n",
    "        if self.largura == self.altura:\n",
    "            return True\n",
    "        else:\n",
    "            return False\n",
    "x = Retangulo()\n",
    "x.largura = int(input('largura'))\n",
    "x.altura = int(input('altura'))\n",
    "print(f'Área = {x.Area()}, Perímetro = {x.Perimetro()}, É quadrado? {x.Quadrado()}')"
   ]
  },
  {
   "cell_type": "code",
   "execution_count": 11,
   "id": "ce83d7f0",
   "metadata": {},
   "outputs": [
    {
     "name": "stdout",
     "output_type": "stream",
     "text": [
      "3\n",
      "10.0\n",
      "3\n",
      "-3\n",
      "19\n"
     ]
    }
   ],
   "source": [
    "print(1 + 2 * 3 - 4) \n",
    "print(2 ** 3 + 4 / 2) \n",
    "print(10 % 3 + 5 // 2) \n",
    "print((1 + 2) * (3 - 4))\n",
    "print(2 * 3 ** 2 + 1)"
   ]
  },
  {
   "cell_type": "code",
   "execution_count": 4,
   "id": "969df94c",
   "metadata": {},
   "outputs": [
    {
     "name": "stdout",
     "output_type": "stream",
     "text": [
      "-5 10 15\n",
      "12.5\n"
     ]
    }
   ],
   "source": [
    "a,b,c = map(int, input().split())\n",
    "print(a,b,c)\n",
    "\n",
    "lista = [a,b,c]\n",
    "soma = 0\n",
    "quant_positivos = 0\n",
    "for i in lista:\n",
    "    if i > 0:\n",
    "        soma += i\n",
    "        quant_positivos += 1\n",
    "media = soma / quant_positivos\n",
    "print(media)"
   ]
  },
  {
   "cell_type": "code",
   "execution_count": 14,
   "id": "5e517d6d",
   "metadata": {},
   "outputs": [
    {
     "name": "stdout",
     "output_type": "stream",
     "text": [
      "78.5\n",
      "31.400000000000002\n",
      "5 é maior que 3\n"
     ]
    }
   ],
   "source": [
    "class Circulo():\n",
    "    def __init__(self):\n",
    "        self.raio = 0\n",
    "    def Area(self):\n",
    "        return 3.14 * self.raio ** 2\n",
    "    def Perimetro(self):\n",
    "        return 2 * 3.14 * self.raio\n",
    "    def Maior(self, raio2):\n",
    "        if self.raio > raio2:\n",
    "            c1 = (f'{self.raio} é maior que {raio2}')\n",
    "            return c1\n",
    "        else:\n",
    "            c2 = (f'{raio2} é maior que {self.raio}')\n",
    "            return c2\n",
    "valor = Circulo()\n",
    "valor.raio = 5\n",
    "print(valor.Area())\n",
    "print(valor.Perimetro())\n",
    "print(valor.Maior(3))"
   ]
  },
  {
   "cell_type": "code",
   "execution_count": 15,
   "id": "0ba12c25",
   "metadata": {},
   "outputs": [
    {
     "name": "stdout",
     "output_type": "stream",
     "text": [
      "80.0\n"
     ]
    }
   ],
   "source": [
    "class ContaTelefone():\n",
    "    def __init__(self):\n",
    "        self.minutos = 0\n",
    "        self.franquia = 0\n",
    "    def Calcular(self):\n",
    "        if self.minutos <= self.franquia:\n",
    "            return 50\n",
    "        else:\n",
    "            return 50 + (self.minutos - self.franquia) * 0.75\n",
    "valor = ContaTelefone()\n",
    "valor.minutos = 100\n",
    "valor.franquia = 60\n",
    "print(valor.Calcular())"
   ]
  },
  {
   "cell_type": "code",
   "execution_count": 16,
   "id": "d9729bbe",
   "metadata": {},
   "outputs": [
    {
     "name": "stdout",
     "output_type": "stream",
     "text": [
      "7\n",
      "4\n",
      "10.0\n",
      "18\n",
      "12.0\n"
     ]
    }
   ],
   "source": [
    "print(5 + 3 * 2 - 4) \n",
    "\n",
    "print(10 % 3 + 7 // 2) \n",
    "\n",
    "print(2 ** 3 + 4 / 2) \n",
    "\n",
    "print((4 + 2) * (6 - 3))\n",
    "\n",
    "print(15 / (3 + 2) * 4)"
   ]
  }
 ],
 "metadata": {
  "kernelspec": {
   "display_name": ".venv",
   "language": "python",
   "name": "python3"
  },
  "language_info": {
   "codemirror_mode": {
    "name": "ipython",
    "version": 3
   },
   "file_extension": ".py",
   "mimetype": "text/x-python",
   "name": "python",
   "nbconvert_exporter": "python",
   "pygments_lexer": "ipython3",
   "version": "3.12.1"
  }
 },
 "nbformat": 4,
 "nbformat_minor": 5
}
