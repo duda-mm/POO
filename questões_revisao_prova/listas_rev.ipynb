{
 "cells": [
  {
   "cell_type": "code",
   "execution_count": null,
   "id": "7bb2a776",
   "metadata": {},
   "outputs": [
    {
     "name": "stdout",
     "output_type": "stream",
     "text": [
      "5\n",
      "78.5\n",
      "31.400000000000002\n"
     ]
    }
   ],
   "source": [
    "class Circulo:\n",
    "    def __init__(self):\n",
    "        self.__raio = 0\n",
    "    \n",
    "    def set_raio(self, raio):\n",
    "        self.__raio = raio\n",
    "    def get_raio(self):\n",
    "        return self.__raio\n",
    "    \n",
    "    def calc_area(self):\n",
    "        return 3.14 * self.__raio ** 2\n",
    "    \n",
    "    def calc_circunferencia(self):\n",
    "        return 2 * 3.14 * self.__raio\n",
    "\n",
    "x = Circulo()\n",
    "x.set_raio(int(input('Raio: ')))\n",
    "print(x.get_raio())\n",
    "print(x.calc_area())\n",
    "print(x.calc_circunferencia())"
   ]
  },
  {
   "cell_type": "code",
   "execution_count": 13,
   "id": "1c079c01",
   "metadata": {},
   "outputs": [
    {
     "name": "stdout",
     "output_type": "stream",
     "text": [
      "60.0\n"
     ]
    }
   ],
   "source": [
    "class Viagem:\n",
    "    def __init__(self):\n",
    "        self.__distancia = 0\n",
    "        self.__horas = 0\n",
    "        self.__min = 0\n",
    "\n",
    "    def set_distancia(self, distancia):\n",
    "        self.__distancia = distancia\n",
    "    def get_distancia(self):\n",
    "        return self.__distancia\n",
    "    \n",
    "    def set_tempo(self, horas, minutos):\n",
    "        self.__horas = horas\n",
    "        self.__min = minutos\n",
    "    def get_tempo(self):\n",
    "        return (self.__horas, self.__min)\n",
    "    \n",
    "    def calc_vm(self):\n",
    "        return self.__distancia / (self.__horas + self.__min / 60)\n",
    "    \n",
    "x = Viagem()\n",
    "x.set_distancia(int(input('Distancia: ')))\n",
    "horas = int(input('Horas:'))\n",
    "minutos = int(input('Minutos:'))\n",
    "x.set_tempo(horas, minutos)\n",
    "print(x.calc_vm())"
   ]
  },
  {
   "cell_type": "code",
   "execution_count": 1,
   "id": "349d653d",
   "metadata": {},
   "outputs": [
    {
     "name": "stdout",
     "output_type": "stream",
     "text": [
      "Base - 10 | Altura - 50 | Área - 500 | Diagonal - 50.99\n"
     ]
    }
   ],
   "source": [
    "import math\n",
    "class Retangulo:\n",
    "    def __init__(self):\n",
    "        self.__base = 0\n",
    "        self.__altura = 0\n",
    "\n",
    "    def set_base(self, base):\n",
    "        if self.__base < 0: raise ValueError('O valor deve ser positivo:')\n",
    "        else: self.__base = base\n",
    "    def get_base(self):\n",
    "        return self.__base\n",
    "\n",
    "    def set_altura(self, altura):\n",
    "        if self.__altura < 0: raise ValueError('O valor deve ser positivo:')\n",
    "        else: self.__altura = altura\n",
    "    def get_base(self):\n",
    "        return self.__altura\n",
    "\n",
    "    def calc_area(self):\n",
    "        return self.__base * self.__altura\n",
    "    \n",
    "    def calc_diagonal(self):\n",
    "        return math.sqrt(self.__base**2 + self.__altura**2)\n",
    "    \n",
    "    def __str__(self):\n",
    "        return f'Base - {self.__base} | Altura - {self.__altura} | Área - {x.calc_area()} | Diagonal - {x.calc_diagonal():.2f}'\n",
    "    \n",
    "x = Retangulo()\n",
    "x.set_base(int(input('Base: ')))\n",
    "x.set_altura(int(input('Altura: ')))\n",
    "print(x)"
   ]
  },
  {
   "cell_type": "code",
   "execution_count": 26,
   "id": "aa4f4c98",
   "metadata": {},
   "outputs": [
    {
     "name": "stdout",
     "output_type": "stream",
     "text": [
      "Distancia - 200 | Peso - 50 | Valor do Frete - R$100.0\n"
     ]
    }
   ],
   "source": [
    "class Frete:\n",
    "    def __init__(self):\n",
    "        self.__distancia = 0\n",
    "        self.__peso = 0\n",
    "\n",
    "    def set_distancia(self, distancia):\n",
    "        if distancia < 0: raise ValueError('O valor deve ser positivo')\n",
    "        else: self.__distancia = distancia\n",
    "    def get_distancia(self):\n",
    "        return self.__distancia\n",
    "    \n",
    "    def set_peso(self, peso):\n",
    "        if peso < 0: raise ValueError('O valor deve ser positivo')\n",
    "        else: self.__peso = peso\n",
    "    def get_distancia(self):\n",
    "        return self.__peso\n",
    "    \n",
    "    def calc_frete(self):\n",
    "        calculo = 0.01 * self.__distancia * self.__peso\n",
    "        return calculo\n",
    "    \n",
    "    def __str__(self):\n",
    "        return f'Distancia - {self.__distancia} | Peso - {self.__peso} | Valor do Frete - R${x.calc_frete()}'\n",
    "    \n",
    "x = Frete()\n",
    "x.set_distancia(int(input('Distancia:')))\n",
    "x.set_peso(int(input('Peso:')))\n",
    "print(x)"
   ]
  },
  {
   "cell_type": "code",
   "execution_count": null,
   "id": "5212530f",
   "metadata": {},
   "outputs": [
    {
     "name": "stdout",
     "output_type": "stream",
     "text": [
      "10.0\n",
      "Destino - sp | Distancia - 250 | Combustivel - 25\n",
      "Fim\n"
     ]
    }
   ],
   "source": [
    "class Viagem:\n",
    "    def __init__(self, destino, distancia, combustivel):\n",
    "        self.set_destino(destino)\n",
    "        self.set_distancia(distancia)\n",
    "        self.set_combustivel(combustivel)\n",
    "\n",
    "    def set_destino(self, destino):\n",
    "        self.__destino = destino\n",
    "    def get_destino(self):\n",
    "        return self.__destino\n",
    "    \n",
    "    def set_distancia(self, distancia):\n",
    "        self.__distancia = distancia\n",
    "    def get_distancia(self):\n",
    "        return self.__distancia\n",
    "    \n",
    "    def set_combustivel(self, combustivel):\n",
    "        self.__combustivel = combustivel\n",
    "    def get_combustivel(self):\n",
    "        return self.__combustivel\n",
    "    \n",
    "    def consumo(self):\n",
    "        return self.__distancia / self.__combustivel\n",
    "    \n",
    "    def __str__(self):\n",
    "        return f'Destino - {self.__destino} | Distancia - {self.__distancia} | Combustivel - {self.__combustivel}'\n",
    "    \n",
    "class ViagemUI:\n",
    "    @staticmethod\n",
    "    def menu():\n",
    "        pergunta = int(input('1 - Calcular | 2 - Fim'))\n",
    "        return pergunta \n",
    "    @staticmethod\n",
    "    def main():\n",
    "        repeticao = 0\n",
    "        while repeticao != 2:\n",
    "            repeticao = ViagemUI.menu()\n",
    "            if repeticao == 1: ViagemUI.method()\n",
    "            else: print('Fim')\n",
    "    @staticmethod\n",
    "    def method():\n",
    "        x = Viagem(input('Destino'), int(input('KM')), int(input('Combustivel')))\n",
    "        print(x.consumo())\n",
    "        print(x)\n",
    "\n",
    "ViagemUI.main()"
   ]
  },
  {
   "cell_type": "code",
   "execution_count": 2,
   "id": "b8375288",
   "metadata": {},
   "outputs": [
    {
     "name": "stdout",
     "output_type": "stream",
     "text": [
      "Nome - portugal | População - 2800 | Área - 10\n",
      "Densidade Demográfica: 280.0\n",
      "Fim\n"
     ]
    }
   ],
   "source": [
    "class Pais:\n",
    "    def __init__(self, nome, populacao, area):\n",
    "        self.set_nome(nome)\n",
    "        self.set_populacao(populacao)\n",
    "        self.set_area(area)\n",
    "\n",
    "    def set_nome(self, nome):\n",
    "        self.__nome = nome\n",
    "    def get_nome(self):\n",
    "        return self.__nome\n",
    "    \n",
    "    def set_populacao(self, populacao):\n",
    "        self.__populacao = populacao\n",
    "    def get_populacao(self):\n",
    "        return self.__populacao\n",
    "    \n",
    "    def set_area(self, area):\n",
    "        self.__area = area\n",
    "    def get_area(self):\n",
    "        return self.__area\n",
    "\n",
    "    def densidade(self):\n",
    "        return self.__populacao / self.__area\n",
    "\n",
    "    def __str__(self):\n",
    "        return f'Nome - {self.__nome} | População - {self.__populacao} | Área - {self.__area}'\n",
    "    \n",
    "class PaisUI:\n",
    "    def menu():\n",
    "        pergunta = int(input('1 - Calcular | 2 - Fim'))\n",
    "        return pergunta \n",
    "    def main():\n",
    "        escolha = 0\n",
    "        while escolha != 2:\n",
    "            escolha = PaisUI.menu()\n",
    "            if escolha == 1: PaisUI.method()\n",
    "            else: print('Fim')\n",
    "    def method():\n",
    "        x = Pais(input('Nome: '), int(input('População: ')), int(input('Área: ')))\n",
    "        print(x)\n",
    "        print(f'Densidade Demográfica: {x.densidade()}')\n",
    "\n",
    "PaisUI.main()"
   ]
  }
 ],
 "metadata": {
  "kernelspec": {
   "display_name": ".venv",
   "language": "python",
   "name": "python3"
  },
  "language_info": {
   "codemirror_mode": {
    "name": "ipython",
    "version": 3
   },
   "file_extension": ".py",
   "mimetype": "text/x-python",
   "name": "python",
   "nbconvert_exporter": "python",
   "pygments_lexer": "ipython3",
   "version": "3.12.1"
  }
 },
 "nbformat": 4,
 "nbformat_minor": 5
}
