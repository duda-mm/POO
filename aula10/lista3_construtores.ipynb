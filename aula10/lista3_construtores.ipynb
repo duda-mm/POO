{
 "cells": [
  {
   "cell_type": "code",
   "execution_count": 11,
   "id": "3b84bb0d",
   "metadata": {},
   "outputs": [
    {
     "name": "stdout",
     "output_type": "stream",
     "text": [
      "Base: 10 - Altura: 50\n",
      "Área do retângulo: 500\n",
      "Diagonal do retângulo: 50.99\n"
     ]
    }
   ],
   "source": [
    "#questão 1- um retângulo\n",
    "import math\n",
    "\n",
    "class Retangulo:\n",
    "    def __init__(self):\n",
    "        self.__base = 0\n",
    "        self.__altura = 0\n",
    "    \n",
    "    def set_base(self, base):\n",
    "        if base <= 0: raise ValueError ('Base Inválida')\n",
    "        else: self.__base = base\n",
    "    def get_base(self):\n",
    "        return self.__base\n",
    "\n",
    "    def set_altura(self, altura):\n",
    "        if altura <= 0: raise ValueError ('Altura Inválida')\n",
    "        else: self.__altura = altura\n",
    "    def get_altura(self):\n",
    "        return self.__altura\n",
    "    \n",
    "    def CalcArea(self):\n",
    "        return self.__base * self.__altura\n",
    "    def CalcDiagonal(self):\n",
    "        return math.sqrt(self.__base**2 + self.__altura**2)\n",
    "\n",
    "    def __str__(self):\n",
    "        return f'Base: {self.__base} - Altura: {self.__altura}'\n",
    "\n",
    "x = Retangulo()\n",
    "x.set_base(10)\n",
    "x.set_altura(50)\n",
    "print(x)\n",
    "print(f'Área do retângulo: {x.CalcArea()}')\n",
    "print(f'Diagonal do retângulo: {x.CalcDiagonal():.2f}')"
   ]
  }
 ],
 "metadata": {
  "kernelspec": {
   "display_name": ".venv",
   "language": "python",
   "name": "python3"
  },
  "language_info": {
   "codemirror_mode": {
    "name": "ipython",
    "version": 3
   },
   "file_extension": ".py",
   "mimetype": "text/x-python",
   "name": "python",
   "nbconvert_exporter": "python",
   "pygments_lexer": "ipython3",
   "version": "3.12.1"
  }
 },
 "nbformat": 4,
 "nbformat_minor": 5
}
