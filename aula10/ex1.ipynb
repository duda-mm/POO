{
 "cells": [
  {
   "cell_type": "code",
   "execution_count": null,
   "id": "82f7708b",
   "metadata": {},
   "outputs": [
    {
     "name": "stdout",
     "output_type": "stream",
     "text": [
      "Eduarda\n",
      "20241011110014\n",
      "Aluno(a) - Nome: Eduarda - Matrícula: 20241011110014\n"
     ]
    }
   ],
   "source": [
    "class Aluno:\n",
    "    def __init__(self):\n",
    "        self.__nome = ''\n",
    "        self.__matricula = 0\n",
    "\n",
    "\n",
    "    def set_nome(self, nome):\n",
    "        if len(nome) < 3:\n",
    "            raise ValueError('Nome Inválido')\n",
    "        else:\n",
    "            self.__nome = nome\n",
    "    def get_nome(self):\n",
    "        return self.__nome\n",
    "\n",
    "    def set_matricula(self, matricula):\n",
    "        if len(matricula) != 14:\n",
    "            raise ValueError('Matrícula Inválida')\n",
    "        else:\n",
    "            self.__matricula = matricula\n",
    "    def get_matricula(self):\n",
    "        return self.__matricula\n",
    "\n",
    "\n",
    "    def __str__(self): #retornar alguma informação do objeto no formato 'texto'\n",
    "        return f'Aluno(a) - Nome: {self.__nome} - Matrícula: {self.__matricula}'\n",
    "\n",
    "x = Aluno()\n",
    "x.set_nome(input('Digite seu nome: '))\n",
    "x.set_matricula(input('Digite sua matrícula: '))\n",
    "print(x.get_nome())\n",
    "print(x.get_matricula())\n",
    "print(x)"
   ]
  }
 ],
 "metadata": {
  "kernelspec": {
   "display_name": ".venv",
   "language": "python",
   "name": "python3"
  },
  "language_info": {
   "codemirror_mode": {
    "name": "ipython",
    "version": 3
   },
   "file_extension": ".py",
   "mimetype": "text/x-python",
   "name": "python",
   "nbconvert_exporter": "python",
   "pygments_lexer": "ipython3",
   "version": "3.12.1"
  }
 },
 "nbformat": 4,
 "nbformat_minor": 5
}
