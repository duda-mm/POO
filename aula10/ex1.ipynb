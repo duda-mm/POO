{
 "cells": [
  {
   "cell_type": "code",
   "execution_count": 9,
   "id": "82f7708b",
   "metadata": {},
   "outputs": [
    {
     "name": "stdout",
     "output_type": "stream",
     "text": [
      "Lucas\n",
      "20241011110002\n",
      "Aluno(a) - Nome: Lucas - Matrícula: 20241011110002\n"
     ]
    }
   ],
   "source": [
    "class Aluno:\n",
    "    def __init__(self, nome, matricula):\n",
    "        self.__nome = nome\n",
    "        self.__matricula = matricula\n",
    "\n",
    "\n",
    "    def set_nome(self, nome):\n",
    "        if len(nome) < 3:\n",
    "            raise ValueError('Nome Inválido')\n",
    "        else:\n",
    "            self.__nome = nome\n",
    "    def get_nome(self):\n",
    "        return self.__nome\n",
    "\n",
    "    def set_matricula(self, matricula):\n",
    "        if len(matricula) != 14:\n",
    "            raise ValueError('Matrícula Inválida')\n",
    "        else:\n",
    "            self.__matricula = matricula\n",
    "    def get_matricula(self):\n",
    "        return self.__matricula\n",
    "\n",
    "\n",
    "    def __str__(self): #retornar alguma informação do objeto no formato 'texto'\n",
    "        return f'Aluno(a) - Nome: {self.__nome} - Matrícula: {self.__matricula}'\n",
    "\n",
    "x = Aluno('Lucas', '20241011110002')\n",
    "x.set_nome('Lucas')\n",
    "x.set_matricula('20241011110002')\n",
    "print(x.get_nome())\n",
    "print(x.get_matricula())\n",
    "print(x)"
   ]
  }
 ],
 "metadata": {
  "kernelspec": {
   "display_name": ".venv",
   "language": "python",
   "name": "python3"
  },
  "language_info": {
   "codemirror_mode": {
    "name": "ipython",
    "version": 3
   },
   "file_extension": ".py",
   "mimetype": "text/x-python",
   "name": "python",
   "nbconvert_exporter": "python",
   "pygments_lexer": "ipython3",
   "version": "3.12.1"
  }
 },
 "nbformat": 4,
 "nbformat_minor": 5
}
