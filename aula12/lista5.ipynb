{
 "cells": [
  {
   "cell_type": "code",
   "execution_count": null,
   "id": "07b5e3b5",
   "metadata": {},
   "outputs": [],
   "source": [
    "#questão 1 - um paciente\n",
    "import datetime\n",
    "\n",
    "class Paciente:\n",
    "    def __init__(self, nome, cpf, telefone, d_nascimento):\n",
    "        self.__nome = nome\n",
    "        self.__cpf = cpf\n",
    "        self.__telefone = telefone\n",
    "        self.__d_nascimento = d_nascimento\n",
    "\n",
    "    def set_nome(self,nome):\n",
    "        if nome == '': return self.__nome\n",
    "        else: raise ValueError('Nome inválido')\n",
    "    def get_nome(self):\n",
    "        return self.__nome\n",
    "    \n",
    "    def set_cpf(self,cpf):\n",
    "        if cpf <= 0:\n",
    "\n",
    "    def Idade(self):\n",
    "        dn = int(input('Informe a data de nascimento:'))\n"
   ]
  },
  {
   "cell_type": "code",
   "execution_count": null,
   "id": "28dbf82d",
   "metadata": {},
   "outputs": [],
   "source": [
    "#questão 2 - contato\n"
   ]
  },
  {
   "cell_type": "code",
   "execution_count": null,
   "id": "9343ad61",
   "metadata": {},
   "outputs": [],
   "source": [
    "#questão 3"
   ]
  }
 ],
 "metadata": {
  "kernelspec": {
   "display_name": ".venv",
   "language": "python",
   "name": "python3"
  },
  "language_info": {
   "name": "python",
   "version": "3.12.1"
  }
 },
 "nbformat": 4,
 "nbformat_minor": 5
}
