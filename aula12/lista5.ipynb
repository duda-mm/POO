{
 "cells": [
  {
   "cell_type": "code",
   "execution_count": null,
   "id": "07b5e3b5",
   "metadata": {},
   "outputs": [],
   "source": [
    "#questão 1 - um paciente\n",
    "import datetime\n",
    "\n",
    "class Paciente:\n",
    "    def __init__(self, nome, cpf, telefone, d_nascimento):\n",
    "        self.__nome = nome\n",
    "        self.__cpf = cpf\n",
    "        self.__telefone = telefone\n",
    "        self.__d_nascimento = d_nascimento\n",
    "\n",
    "    def set_nome(self,nome):\n",
    "        if nome == '': raise ValueError('Nome inválido')\n",
    "        else: return self.__nome\n",
    "    def get_nome(self):\n",
    "        return self.__nome\n",
    "    \n",
    "    def set_cpf(self,cpf):\n",
    "        if cpf <= 0: raise ValueError('CPF inválido')\n",
    "    def get_cpf(self):\n",
    "        return self.__cpf\n",
    "    \n",
    "    def set_telefone(self,telefone):\n",
    "        if telefone <= 0: raise ValueError('Telefone inválido')\n",
    "    def get_telefone(self):\n",
    "        return self.__telefone\n",
    "    \n",
    "    def set_d_nascimento(self,d_nascimento):\n",
    "        if d_nascimento <= 0: raise ValueError('Data de nascimento inválida')\n",
    "    def get_d_nascimento(self):\n",
    "        return self.__d_nascimento\n",
    "\n",
    "    def Idade(self):\n",
    "        hoje = date.today()\n",
    "        anos = hoje.year - self.__d_nascimento.year\n",
    "        meses = hoje.month - self.__d_nascimento.month\n",
    "        return f'Idade em anos - {anos} | Idade em meses - {meses}'\n",
    "\n",
    "    def __str__(self):\n",
    "        return f'Nome - {self.__nome} | CPF - {self.__cpf} | Telefone - {self.__telefone} | 4- Data de Nascimento - {self.__d_nascimento}'\n",
    "    \n",
    "class PacienteUI:\n",
    "\n"
   ]
  },
  {
   "cell_type": "code",
   "execution_count": null,
   "id": "28dbf82d",
   "metadata": {},
   "outputs": [],
   "source": [
    "#questão 2 - contato\n"
   ]
  },
  {
   "cell_type": "code",
   "execution_count": null,
   "id": "9343ad61",
   "metadata": {},
   "outputs": [],
   "source": [
    "#questão 3"
   ]
  }
 ],
 "metadata": {
  "kernelspec": {
   "display_name": ".venv",
   "language": "python",
   "name": "python3"
  },
  "language_info": {
   "name": "python",
   "version": "3.12.1"
  }
 },
 "nbformat": 4,
 "nbformat_minor": 5
}
