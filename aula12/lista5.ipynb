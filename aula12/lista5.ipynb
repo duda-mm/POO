{
 "cells": [
  {
   "cell_type": "code",
   "execution_count": 9,
   "id": "07b5e3b5",
   "metadata": {},
   "outputs": [
    {
     "ename": "ValueError",
     "evalue": "Data de nascimento inválida",
     "output_type": "error",
     "traceback": [
      "\u001b[31m---------------------------------------------------------------------------\u001b[39m",
      "\u001b[31mValueError\u001b[39m                                Traceback (most recent call last)",
      "\u001b[36mCell\u001b[39m\u001b[36m \u001b[39m\u001b[32mIn[9]\u001b[39m\u001b[32m, line 69\u001b[39m\n\u001b[32m     66\u001b[39m         \u001b[38;5;28mcls\u001b[39m.__pacientes.append(c)\n\u001b[32m     67\u001b[39m         \u001b[38;5;28mprint\u001b[39m(c)\n\u001b[32m---> \u001b[39m\u001b[32m69\u001b[39m \u001b[43mPacienteUI\u001b[49m\u001b[43m.\u001b[49m\u001b[43mmain\u001b[49m\u001b[43m(\u001b[49m\u001b[43m)\u001b[49m\n",
      "\u001b[36mCell\u001b[39m\u001b[36m \u001b[39m\u001b[32mIn[9]\u001b[39m\u001b[32m, line 57\u001b[39m, in \u001b[36mPacienteUI.main\u001b[39m\u001b[34m(cls)\u001b[39m\n\u001b[32m     55\u001b[39m \u001b[38;5;28;01mwhile\u001b[39;00m escolha != \u001b[32m2\u001b[39m:\n\u001b[32m     56\u001b[39m     escolha = PacienteUI.menu()\n\u001b[32m---> \u001b[39m\u001b[32m57\u001b[39m     \u001b[38;5;28;01mif\u001b[39;00m escolha == \u001b[32m1\u001b[39m: \u001b[43mPacienteUI\u001b[49m\u001b[43m.\u001b[49m\u001b[43minserir\u001b[49m\u001b[43m(\u001b[49m\u001b[43m)\u001b[49m\n\u001b[32m     58\u001b[39m     \u001b[38;5;28;01melse\u001b[39;00m: \u001b[38;5;28mprint\u001b[39m(\u001b[33m'\u001b[39m\u001b[33mFim\u001b[39m\u001b[33m'\u001b[39m)\n",
      "\u001b[36mCell\u001b[39m\u001b[36m \u001b[39m\u001b[32mIn[9]\u001b[39m\u001b[32m, line 65\u001b[39m, in \u001b[36mPacienteUI.inserir\u001b[39m\u001b[34m(cls)\u001b[39m\n\u001b[32m     63\u001b[39m telefone = \u001b[38;5;28mint\u001b[39m(\u001b[38;5;28minput\u001b[39m(\u001b[33m'\u001b[39m\u001b[33mTelefone:\u001b[39m\u001b[33m'\u001b[39m))\n\u001b[32m     64\u001b[39m d_nascimento = datetime.strptime(\u001b[38;5;28minput\u001b[39m(\u001b[33m'\u001b[39m\u001b[33mData de nascimento:\u001b[39m\u001b[33m'\u001b[39m),\u001b[33m'\u001b[39m\u001b[38;5;132;01m%d\u001b[39;00m\u001b[33m/\u001b[39m\u001b[33m%\u001b[39m\u001b[33mm/\u001b[39m\u001b[33m%\u001b[39m\u001b[33mY\u001b[39m\u001b[33m'\u001b[39m)\n\u001b[32m---> \u001b[39m\u001b[32m65\u001b[39m c = \u001b[43mPaciente\u001b[49m\u001b[43m(\u001b[49m\u001b[43mnome\u001b[49m\u001b[43m,\u001b[49m\u001b[43m \u001b[49m\u001b[43mcpf\u001b[49m\u001b[43m,\u001b[49m\u001b[43m \u001b[49m\u001b[43mtelefone\u001b[49m\u001b[43m,\u001b[49m\u001b[43m \u001b[49m\u001b[43md_nascimento\u001b[49m\u001b[43m)\u001b[49m\n\u001b[32m     66\u001b[39m \u001b[38;5;28mcls\u001b[39m.__pacientes.append(c)\n\u001b[32m     67\u001b[39m \u001b[38;5;28mprint\u001b[39m(c)\n",
      "\u001b[36mCell\u001b[39m\u001b[36m \u001b[39m\u001b[32mIn[9]\u001b[39m\u001b[32m, line 9\u001b[39m, in \u001b[36mPaciente.__init__\u001b[39m\u001b[34m(self, nome, cpf, telefone, d_nascimento)\u001b[39m\n\u001b[32m      7\u001b[39m \u001b[38;5;28mself\u001b[39m.set_cpf(cpf)\n\u001b[32m      8\u001b[39m \u001b[38;5;28mself\u001b[39m.set_telefone(telefone)\n\u001b[32m----> \u001b[39m\u001b[32m9\u001b[39m \u001b[38;5;28;43mself\u001b[39;49m\u001b[43m.\u001b[49m\u001b[43mset_d_nascimento\u001b[49m\u001b[43m(\u001b[49m\u001b[43md_nascimento\u001b[49m\u001b[43m)\u001b[49m\n",
      "\u001b[36mCell\u001b[39m\u001b[36m \u001b[39m\u001b[32mIn[9]\u001b[39m\u001b[32m, line 30\u001b[39m, in \u001b[36mPaciente.set_d_nascimento\u001b[39m\u001b[34m(self, d_nascimento)\u001b[39m\n\u001b[32m     29\u001b[39m \u001b[38;5;28;01mdef\u001b[39;00m\u001b[38;5;250m \u001b[39m\u001b[34mset_d_nascimento\u001b[39m(\u001b[38;5;28mself\u001b[39m,d_nascimento):\n\u001b[32m---> \u001b[39m\u001b[32m30\u001b[39m     \u001b[38;5;28;01mif\u001b[39;00m d_nascimento > datetime.today(): \u001b[38;5;28;01mraise\u001b[39;00m \u001b[38;5;167;01mValueError\u001b[39;00m(\u001b[33m'\u001b[39m\u001b[33mData de nascimento inválida\u001b[39m\u001b[33m'\u001b[39m)\n\u001b[32m     31\u001b[39m     \u001b[38;5;28;01melse\u001b[39;00m: \u001b[38;5;28mself\u001b[39m.__d_nascimento = d_nascimento\n",
      "\u001b[31mValueError\u001b[39m: Data de nascimento inválida"
     ]
    }
   ],
   "source": [
    "#questão 1 - um paciente\n",
    "from datetime import datetime\n",
    "\n",
    "class Paciente:\n",
    "    def __init__(self, nome, cpf, telefone, d_nascimento):\n",
    "        self.set_nome(nome)\n",
    "        self.set_cpf(cpf)\n",
    "        self.set_telefone(telefone)\n",
    "        self.set_d_nascimento(d_nascimento)\n",
    "\n",
    "    def set_nome(self,nome):\n",
    "        if nome == '': raise ValueError('Nome inválido')\n",
    "        else: self.__nome = nome\n",
    "    def get_nome(self):\n",
    "        return self.__nome\n",
    "    \n",
    "    def set_cpf(self,cpf):\n",
    "        if cpf == '': raise ValueError('CPF inválido')\n",
    "        else: self.__cpf = cpf\n",
    "    def get_cpf(self):\n",
    "        return self.__cpf\n",
    "    \n",
    "    def set_telefone(self,telefone):\n",
    "        if telefone == '': raise ValueError('Telefone inválido')\n",
    "        else: self.__telefone = telefone\n",
    "    def get_telefone(self):\n",
    "        return self.__telefone\n",
    "    \n",
    "    def set_d_nascimento(self,d_nascimento):\n",
    "        if d_nascimento > datetime.today(): raise ValueError('Data de nascimento inválida')\n",
    "        else: self.__d_nascimento = d_nascimento\n",
    "    def get_d_nascimento(self):\n",
    "        return self.__d_nascimento\n",
    "\n",
    "    def Idade(self):\n",
    "        hoje = datetime.today()\n",
    "        tempo = hoje - self.__d_nascimento\n",
    "        anos = tempo.days // 365\n",
    "        meses = tempo.days % 365 // 30\n",
    "        return f'Idade em anos - {anos} | Idade em meses - {meses}'\n",
    "\n",
    "    def __str__(self):\n",
    "        return f'Nome - {self.__nome} | CPF - {self.__cpf} | Telefone - {self.__telefone} | Data de Nascimento - {self.__d_nascimento}'\n",
    "    \n",
    "class PacienteUI:\n",
    "    __pacientes = []\n",
    "\n",
    "    @classmethod\n",
    "    def menu(cls):\n",
    "        pergunta = int(input('1 - Listar dados | 2 - Fim'))\n",
    "        return pergunta\n",
    "    @classmethod\n",
    "    def main(cls):\n",
    "        escolha = 0\n",
    "        while escolha != 2:\n",
    "            escolha = PacienteUI.menu()\n",
    "            if escolha == 1: PacienteUI.inserir()\n",
    "            else: print('Fim')\n",
    "    @classmethod\n",
    "    def inserir(cls):\n",
    "        nome = input('Nome:')\n",
    "        cpf = int(input('CPF:'))\n",
    "        telefone = int(input('Telefone:'))\n",
    "        d_nascimento = datetime.strptime(input('Data de nascimento:'),'%d/%m/%Y')\n",
    "        c = Paciente(nome, cpf, telefone, d_nascimento)\n",
    "        cls.__pacientes.append(c)\n",
    "        print(c)\n",
    "        \n",
    "PacienteUI.main()"
   ]
  },
  {
   "cell_type": "code",
   "execution_count": null,
   "id": "28dbf82d",
   "metadata": {},
   "outputs": [],
   "source": [
    "#questão 2 - boleto\n"
   ]
  },
  {
   "cell_type": "code",
   "execution_count": null,
   "id": "9343ad61",
   "metadata": {},
   "outputs": [],
   "source": [
    "#questão 3 - contato"
   ]
  }
 ],
 "metadata": {
  "kernelspec": {
   "display_name": ".venv",
   "language": "python",
   "name": "python3"
  },
  "language_info": {
   "codemirror_mode": {
    "name": "ipython",
    "version": 3
   },
   "file_extension": ".py",
   "mimetype": "text/x-python",
   "name": "python",
   "nbconvert_exporter": "python",
   "pygments_lexer": "ipython3",
   "version": "3.12.1"
  }
 },
 "nbformat": 4,
 "nbformat_minor": 5
}
