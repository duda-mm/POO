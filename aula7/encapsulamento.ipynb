{
 "cells": [
  {
   "cell_type": "code",
   "execution_count": null,
   "metadata": {},
   "outputs": [
    {
     "ename": "AttributeError",
     "evalue": "'Triangulo' object has no attribute 'b'",
     "output_type": "error",
     "traceback": [
      "\u001b[31m---------------------------------------------------------------------------\u001b[39m",
      "\u001b[31mAttributeError\u001b[39m                            Traceback (most recent call last)",
      "\u001b[36mCell\u001b[39m\u001b[36m \u001b[39m\u001b[32mIn[2]\u001b[39m\u001b[32m, line 45\u001b[39m\n\u001b[32m     41\u001b[39m         \u001b[38;5;28mprint\u001b[39m(\u001b[33mf\u001b[39m\u001b[33m\"\u001b[39m\u001b[33mA área do triângulo é \u001b[39m\u001b[38;5;132;01m{\u001b[39;00mx.calc_area()\u001b[38;5;132;01m}\u001b[39;00m\u001b[33m\"\u001b[39m)\n\u001b[32m     43\u001b[39m \u001b[38;5;66;03m#p = UI()\u001b[39;00m\n\u001b[32m     44\u001b[39m \u001b[38;5;66;03m#p.contaagua()\u001b[39;00m\n\u001b[32m---> \u001b[39m\u001b[32m45\u001b[39m \u001b[43mUI\u001b[49m\u001b[43m.\u001b[49m\u001b[43mmain\u001b[49m\u001b[43m(\u001b[49m\u001b[43m)\u001b[49m\n",
      "\u001b[36mCell\u001b[39m\u001b[36m \u001b[39m\u001b[32mIn[2]\u001b[39m\u001b[32m, line 34\u001b[39m, in \u001b[36mUI.main\u001b[39m\u001b[34m()\u001b[39m\n\u001b[32m     32\u001b[39m \u001b[38;5;28;01mwhile\u001b[39;00m op != \u001b[32m9\u001b[39m:\n\u001b[32m     33\u001b[39m     op = UI.menu()\n\u001b[32m---> \u001b[39m\u001b[32m34\u001b[39m     \u001b[38;5;28;01mif\u001b[39;00m op == \u001b[32m1\u001b[39m: \u001b[43mUI\u001b[49m\u001b[43m.\u001b[49m\u001b[43mtriangulo\u001b[49m\u001b[43m(\u001b[49m\u001b[43m)\u001b[49m\n",
      "\u001b[36mCell\u001b[39m\u001b[36m \u001b[39m\u001b[32mIn[2]\u001b[39m\u001b[32m, line 41\u001b[39m, in \u001b[36mUI.triangulo\u001b[39m\u001b[34m()\u001b[39m\n\u001b[32m     39\u001b[39m x.set_b (\u001b[38;5;28mint\u001b[39m(\u001b[38;5;28minput\u001b[39m(\u001b[33m\"\u001b[39m\u001b[33mInforme o valor da base: \u001b[39m\u001b[33m\"\u001b[39m)))\n\u001b[32m     40\u001b[39m x.set_h (\u001b[38;5;28mint\u001b[39m(\u001b[38;5;28minput\u001b[39m(\u001b[33m\"\u001b[39m\u001b[33mInforme o valor da altura: \u001b[39m\u001b[33m\"\u001b[39m)))\n\u001b[32m---> \u001b[39m\u001b[32m41\u001b[39m \u001b[38;5;28mprint\u001b[39m(\u001b[33mf\u001b[39m\u001b[33m\"\u001b[39m\u001b[33mA área do triângulo é \u001b[39m\u001b[38;5;132;01m{\u001b[39;00m\u001b[43mx\u001b[49m\u001b[43m.\u001b[49m\u001b[43mcalc_area\u001b[49m\u001b[43m(\u001b[49m\u001b[43m)\u001b[49m\u001b[38;5;132;01m}\u001b[39;00m\u001b[33m\"\u001b[39m)\n",
      "\u001b[36mCell\u001b[39m\u001b[36m \u001b[39m\u001b[32mIn[2]\u001b[39m\u001b[32m, line 21\u001b[39m, in \u001b[36mTriangulo.calc_area\u001b[39m\u001b[34m(self)\u001b[39m\n\u001b[32m     20\u001b[39m \u001b[38;5;28;01mdef\u001b[39;00m\u001b[38;5;250m \u001b[39m\u001b[34mcalc_area\u001b[39m(\u001b[38;5;28mself\u001b[39m):\n\u001b[32m---> \u001b[39m\u001b[32m21\u001b[39m     \u001b[38;5;28;01mreturn\u001b[39;00m \u001b[38;5;28;43mself\u001b[39;49m\u001b[43m.\u001b[49m\u001b[43mb\u001b[49m * \u001b[38;5;28mself\u001b[39m.h / \u001b[32m2\u001b[39m\n",
      "\u001b[31mAttributeError\u001b[39m: 'Triangulo' object has no attribute 'b'"
     ]
    }
   ],
   "source": [
    "class Triangulo:\n",
    "    def __init__(self):\n",
    "        self.__b = 0\n",
    "        self.__h = 0\n",
    "\n",
    "    def set_b(self,v):\n",
    "        if v <= 0:\n",
    "            raise ValueError ('O valor da base deve ser maior que zero.')\n",
    "        self.__b = v\n",
    "    def get_b(self):\n",
    "        return self.__b\n",
    "\n",
    "    def set_h(self,v):\n",
    "        if v <= 0:\n",
    "            raise ValueError ('O valor da altura deve ser maior que zero.')\n",
    "        self.__h = v\n",
    "    def get_h(self):\n",
    "        return self.__h\n",
    "\n",
    "    def calc_area(self):\n",
    "        return self.b * self.h / 2 \n",
    "\n",
    "class UI:\n",
    "    @staticmethod\n",
    "    def menu():\n",
    "        op = int(input(\"1-Triângulo, 9-Fim: \"))\n",
    "        return op\n",
    "    \n",
    "    @staticmethod\n",
    "    def main():\n",
    "        op = 0\n",
    "        while op != 9:\n",
    "            op = UI.menu()\n",
    "            if op == 1: UI.triangulo()\n",
    "\n",
    "    @staticmethod\n",
    "    def triangulo():    \n",
    "        x = Triangulo()\n",
    "        x.set_b (int(input(\"Informe o valor da base: \")))\n",
    "        x.set_h (int(input(\"Informe o valor da altura: \")))\n",
    "        print(f\"A área do triângulo é {x.calc_area()}\")\n",
    "\n",
    "#p = UI()\n",
    "#p.contaagua()\n",
    "UI.main()"
   ]
  }
 ],
 "metadata": {
  "kernelspec": {
   "display_name": ".venv",
   "language": "python",
   "name": "python3"
  },
  "language_info": {
   "codemirror_mode": {
    "name": "ipython",
    "version": 3
   },
   "file_extension": ".py",
   "mimetype": "text/x-python",
   "name": "python",
   "nbconvert_exporter": "python",
   "pygments_lexer": "ipython3",
   "version": "3.12.1"
  }
 },
 "nbformat": 4,
 "nbformat_minor": 5
}
