{
 "cells": [
  {
   "cell_type": "code",
   "execution_count": null,
   "metadata": {},
   "outputs": [],
   "source": [
    "class Triangulo:\n",
    "    def __init__(self):\n",
    "        self.__b = 0\n",
    "        self.__h = 0\n",
    "\n",
    "    def set_b(self,v):\n",
    "        if v <= 0:\n",
    "            raise ValueError ('O valor da base deve ser maior que zero.')\n",
    "        self.__b = v\n",
    "    def get_b(self):\n",
    "        return self.__b\n",
    "\n",
    "    def set_h(self,v):\n",
    "        if v <= 0:\n",
    "            raise ValueError ('O valor da altura deve ser maior que zero.')\n",
    "        self.__h = v\n",
    "    def get_h(self):\n",
    "        return self.__h\n",
    "\n",
    "    def calc_area(self):\n",
    "        return self.__b * self.__h / 2 \n",
    "\n",
    "class UI:\n",
    "    @staticmethod\n",
    "    def menu():\n",
    "        op = int(input(\"1-Triângulo, 9-Fim: \"))\n",
    "        return op\n",
    "    \n",
    "    @staticmethod\n",
    "    def main():\n",
    "        op = 0\n",
    "        while op != 9:\n",
    "            op = UI.menu()\n",
    "            if op == 1: UI.triangulo()\n",
    "\n",
    "    @staticmethod\n",
    "    def triangulo():    \n",
    "        x = Triangulo()\n",
    "        x.set_b (int(input(\"Informe o valor da base: \")))\n",
    "        x.set_h (int(input(\"Informe o valor da altura: \")))\n",
    "        print(f\"A área do triângulo é {x.calc_area()}\")\n",
    "\n",
    "#p = UI()\n",
    "#p.contaagua()\n",
    "UI.main()"
   ]
  }
 ],
 "metadata": {
  "kernelspec": {
   "display_name": ".venv",
   "language": "python",
   "name": "python3"
  },
  "language_info": {
   "codemirror_mode": {
    "name": "ipython",
    "version": 3
   },
   "file_extension": ".py",
   "mimetype": "text/x-python",
   "name": "python",
   "nbconvert_exporter": "python",
   "pygments_lexer": "ipython3",
   "version": "3.12.1"
  }
 },
 "nbformat": 4,
 "nbformat_minor": 5
}
