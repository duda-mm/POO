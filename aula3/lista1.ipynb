{
 "cells": [
  {
   "cell_type": "code",
   "execution_count": 5,
   "id": "4217813b",
   "metadata": {},
   "outputs": [
    {
     "name": "stdout",
     "output_type": "stream",
     "text": [
      "Maior = 10\n"
     ]
    }
   ],
   "source": [
    "#questão 1\n",
    "a = int(input())\n",
    "b = int(input())\n",
    "if a > b:\n",
    "    print(f'Maior = {a}')\n",
    "elif a == b:\n",
    "    print('Números iguais')\n",
    "else:\n",
    "    print(f'Maior = {b}')"
   ]
  },
  {
   "cell_type": "code",
   "execution_count": 22,
   "id": "58220d26",
   "metadata": {},
   "outputs": [
    {
     "name": "stdout",
     "output_type": "stream",
     "text": [
      "Média = 4\n",
      "Números menores que a média: [1, 2, 3]\n",
      "Números maiores ou iguais à média: [10]\n"
     ]
    }
   ],
   "source": [
    "#questão 2\n",
    "a = int(input())\n",
    "b = int(input())\n",
    "c = int(input())\n",
    "d = int(input())\n",
    "lista = [a,b,c,d]\n",
    "media = (a + b + c + d) // 4\n",
    "print(f'Média = {media}')\n",
    "\n",
    "maiores = []\n",
    "menores = []\n",
    "for i in lista:\n",
    "    if i >= media:\n",
    "        maiores.append(i)\n",
    "    else:\n",
    "        menores.append(i)\n",
    "\n",
    "print(f'Números menores que a média: {menores}')\n",
    "print(f'Números maiores ou iguais à média: {maiores}')"
   ]
  },
  {
   "cell_type": "code",
   "execution_count": 15,
   "id": "7a59dd70",
   "metadata": {},
   "outputs": [
    {
     "name": "stdout",
     "output_type": "stream",
     "text": [
      "Soma dos pares: 6\n",
      "Soma dos ímpares: 4\n"
     ]
    }
   ],
   "source": [
    "#questão 3\n",
    "pares = 0\n",
    "impares = 0\n",
    "\n",
    "for i in range(4):\n",
    "    num = int(input('Digite quatro valores inteiros:'))\n",
    "    if i % 2 == 0:\n",
    "        impares += num\n",
    "    else:\n",
    "        pares += num\n",
    "\n",
    "print(f'Soma dos pares: {pares}')\n",
    "print(f'Soma dos ímpares: {impares}')"
   ]
  },
  {
   "cell_type": "code",
   "execution_count": null,
   "id": "f4d7cad9",
   "metadata": {},
   "outputs": [],
   "source": []
  }
 ],
 "metadata": {
  "kernelspec": {
   "display_name": "Python 3",
   "language": "python",
   "name": "python3"
  },
  "language_info": {
   "codemirror_mode": {
    "name": "ipython",
    "version": 3
   },
   "file_extension": ".py",
   "mimetype": "text/x-python",
   "name": "python",
   "nbconvert_exporter": "python",
   "pygments_lexer": "ipython3",
   "version": "3.12.1"
  }
 },
 "nbformat": 4,
 "nbformat_minor": 5
}
